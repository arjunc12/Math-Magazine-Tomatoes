{
 "cells": [
  {
   "cell_type": "code",
   "execution_count": 2,
   "id": "026a9734-9cbc-4d63-9bf1-9112840e32e8",
   "metadata": {},
   "outputs": [
    {
     "data": {
      "text/html": [
       "        <script type=\"text/javascript\">\n",
       "        window.PlotlyConfig = {MathJaxConfig: 'local'};\n",
       "        if (window.MathJax && window.MathJax.Hub && window.MathJax.Hub.Config) {window.MathJax.Hub.Config({SVG: {font: \"STIX-Web\"}});}\n",
       "        if (typeof require !== 'undefined') {\n",
       "        require.undef(\"plotly\");\n",
       "        requirejs.config({\n",
       "            paths: {\n",
       "                'plotly': ['https://cdn.plot.ly/plotly-2.29.1.min']\n",
       "            }\n",
       "        });\n",
       "        require(['plotly'], function(Plotly) {\n",
       "            window._Plotly = Plotly;\n",
       "        });\n",
       "        }\n",
       "        </script>\n",
       "        "
      ]
     },
     "metadata": {},
     "output_type": "display_data"
    }
   ],
   "source": [
    "import plotly\n",
    "from plotly.offline import plot, iplot, init_notebook_mode\n",
    "from plotly import graph_objs as go\n",
    "init_notebook_mode(connected=True)\n",
    "import pylab\n",
    "import mpmath\n",
    "import seaborn as sns\n",
    "sns.set_theme()\n",
    "sns.set_context(\"poster\")\n",
    "from scipy.spatial.distance import euclidean\n",
    "import scipy.integrate as integrate"
   ]
  },
  {
   "cell_type": "code",
   "execution_count": 175,
   "id": "812e321f-a3f2-47f5-a4dc-ab0fc062b968",
   "metadata": {},
   "outputs": [],
   "source": [
    "x_main = [0, 0]\n",
    "tmin = 0\n",
    "tmax = 1\n",
    "y_main = [tmin, tmax]\n",
    "\n",
    "p = 0.5\n",
    "q = 0.8\n",
    "\n",
    "p2 = -0.5\n",
    "q2 = 1.2\n",
    "\n",
    "x_opt = pylab.linspace(0, p)\n",
    "main = go.Scatter(x=x_main, y=y_main, name=\"main root\")\n",
    "pq = go.Scatter(x=[p], y=[q], name=\"lateral root tip 1\")\n",
    "pq2 = go.Scatter(x=[p2], y=[q2], name=\"lateral root tip 2\")"
   ]
  },
  {
   "cell_type": "code",
   "execution_count": 176,
   "id": "1f094ec6-2180-419b-a640-837aeca62b37",
   "metadata": {},
   "outputs": [
    {
     "data": {
      "application/vnd.plotly.v1+json": {
       "config": {
        "plotlyServerURL": "https://plot.ly"
       },
       "data": [
        {
         "name": "main root",
         "type": "scatter",
         "x": [
          0,
          0
         ],
         "y": [
          0,
          1
         ]
        },
        {
         "name": "lateral root tip 1",
         "type": "scatter",
         "x": [
          0.5
         ],
         "y": [
          0.8
         ]
        },
        {
         "name": "lateral root tip 2",
         "type": "scatter",
         "x": [
          -0.5
         ],
         "y": [
          1.2
         ]
        }
       ],
       "layout": {
        "autosize": true,
        "template": {
         "data": {
          "bar": [
           {
            "error_x": {
             "color": "#2a3f5f"
            },
            "error_y": {
             "color": "#2a3f5f"
            },
            "marker": {
             "line": {
              "color": "#E5ECF6",
              "width": 0.5
             },
             "pattern": {
              "fillmode": "overlay",
              "size": 10,
              "solidity": 0.2
             }
            },
            "type": "bar"
           }
          ],
          "barpolar": [
           {
            "marker": {
             "line": {
              "color": "#E5ECF6",
              "width": 0.5
             },
             "pattern": {
              "fillmode": "overlay",
              "size": 10,
              "solidity": 0.2
             }
            },
            "type": "barpolar"
           }
          ],
          "carpet": [
           {
            "aaxis": {
             "endlinecolor": "#2a3f5f",
             "gridcolor": "white",
             "linecolor": "white",
             "minorgridcolor": "white",
             "startlinecolor": "#2a3f5f"
            },
            "baxis": {
             "endlinecolor": "#2a3f5f",
             "gridcolor": "white",
             "linecolor": "white",
             "minorgridcolor": "white",
             "startlinecolor": "#2a3f5f"
            },
            "type": "carpet"
           }
          ],
          "choropleth": [
           {
            "colorbar": {
             "outlinewidth": 0,
             "ticks": ""
            },
            "type": "choropleth"
           }
          ],
          "contour": [
           {
            "colorbar": {
             "outlinewidth": 0,
             "ticks": ""
            },
            "colorscale": [
             [
              0,
              "#0d0887"
             ],
             [
              0.1111111111111111,
              "#46039f"
             ],
             [
              0.2222222222222222,
              "#7201a8"
             ],
             [
              0.3333333333333333,
              "#9c179e"
             ],
             [
              0.4444444444444444,
              "#bd3786"
             ],
             [
              0.5555555555555556,
              "#d8576b"
             ],
             [
              0.6666666666666666,
              "#ed7953"
             ],
             [
              0.7777777777777778,
              "#fb9f3a"
             ],
             [
              0.8888888888888888,
              "#fdca26"
             ],
             [
              1,
              "#f0f921"
             ]
            ],
            "type": "contour"
           }
          ],
          "contourcarpet": [
           {
            "colorbar": {
             "outlinewidth": 0,
             "ticks": ""
            },
            "type": "contourcarpet"
           }
          ],
          "heatmap": [
           {
            "colorbar": {
             "outlinewidth": 0,
             "ticks": ""
            },
            "colorscale": [
             [
              0,
              "#0d0887"
             ],
             [
              0.1111111111111111,
              "#46039f"
             ],
             [
              0.2222222222222222,
              "#7201a8"
             ],
             [
              0.3333333333333333,
              "#9c179e"
             ],
             [
              0.4444444444444444,
              "#bd3786"
             ],
             [
              0.5555555555555556,
              "#d8576b"
             ],
             [
              0.6666666666666666,
              "#ed7953"
             ],
             [
              0.7777777777777778,
              "#fb9f3a"
             ],
             [
              0.8888888888888888,
              "#fdca26"
             ],
             [
              1,
              "#f0f921"
             ]
            ],
            "type": "heatmap"
           }
          ],
          "heatmapgl": [
           {
            "colorbar": {
             "outlinewidth": 0,
             "ticks": ""
            },
            "colorscale": [
             [
              0,
              "#0d0887"
             ],
             [
              0.1111111111111111,
              "#46039f"
             ],
             [
              0.2222222222222222,
              "#7201a8"
             ],
             [
              0.3333333333333333,
              "#9c179e"
             ],
             [
              0.4444444444444444,
              "#bd3786"
             ],
             [
              0.5555555555555556,
              "#d8576b"
             ],
             [
              0.6666666666666666,
              "#ed7953"
             ],
             [
              0.7777777777777778,
              "#fb9f3a"
             ],
             [
              0.8888888888888888,
              "#fdca26"
             ],
             [
              1,
              "#f0f921"
             ]
            ],
            "type": "heatmapgl"
           }
          ],
          "histogram": [
           {
            "marker": {
             "pattern": {
              "fillmode": "overlay",
              "size": 10,
              "solidity": 0.2
             }
            },
            "type": "histogram"
           }
          ],
          "histogram2d": [
           {
            "colorbar": {
             "outlinewidth": 0,
             "ticks": ""
            },
            "colorscale": [
             [
              0,
              "#0d0887"
             ],
             [
              0.1111111111111111,
              "#46039f"
             ],
             [
              0.2222222222222222,
              "#7201a8"
             ],
             [
              0.3333333333333333,
              "#9c179e"
             ],
             [
              0.4444444444444444,
              "#bd3786"
             ],
             [
              0.5555555555555556,
              "#d8576b"
             ],
             [
              0.6666666666666666,
              "#ed7953"
             ],
             [
              0.7777777777777778,
              "#fb9f3a"
             ],
             [
              0.8888888888888888,
              "#fdca26"
             ],
             [
              1,
              "#f0f921"
             ]
            ],
            "type": "histogram2d"
           }
          ],
          "histogram2dcontour": [
           {
            "colorbar": {
             "outlinewidth": 0,
             "ticks": ""
            },
            "colorscale": [
             [
              0,
              "#0d0887"
             ],
             [
              0.1111111111111111,
              "#46039f"
             ],
             [
              0.2222222222222222,
              "#7201a8"
             ],
             [
              0.3333333333333333,
              "#9c179e"
             ],
             [
              0.4444444444444444,
              "#bd3786"
             ],
             [
              0.5555555555555556,
              "#d8576b"
             ],
             [
              0.6666666666666666,
              "#ed7953"
             ],
             [
              0.7777777777777778,
              "#fb9f3a"
             ],
             [
              0.8888888888888888,
              "#fdca26"
             ],
             [
              1,
              "#f0f921"
             ]
            ],
            "type": "histogram2dcontour"
           }
          ],
          "mesh3d": [
           {
            "colorbar": {
             "outlinewidth": 0,
             "ticks": ""
            },
            "type": "mesh3d"
           }
          ],
          "parcoords": [
           {
            "line": {
             "colorbar": {
              "outlinewidth": 0,
              "ticks": ""
             }
            },
            "type": "parcoords"
           }
          ],
          "pie": [
           {
            "automargin": true,
            "type": "pie"
           }
          ],
          "scatter": [
           {
            "fillpattern": {
             "fillmode": "overlay",
             "size": 10,
             "solidity": 0.2
            },
            "type": "scatter"
           }
          ],
          "scatter3d": [
           {
            "line": {
             "colorbar": {
              "outlinewidth": 0,
              "ticks": ""
             }
            },
            "marker": {
             "colorbar": {
              "outlinewidth": 0,
              "ticks": ""
             }
            },
            "type": "scatter3d"
           }
          ],
          "scattercarpet": [
           {
            "marker": {
             "colorbar": {
              "outlinewidth": 0,
              "ticks": ""
             }
            },
            "type": "scattercarpet"
           }
          ],
          "scattergeo": [
           {
            "marker": {
             "colorbar": {
              "outlinewidth": 0,
              "ticks": ""
             }
            },
            "type": "scattergeo"
           }
          ],
          "scattergl": [
           {
            "marker": {
             "colorbar": {
              "outlinewidth": 0,
              "ticks": ""
             }
            },
            "type": "scattergl"
           }
          ],
          "scattermapbox": [
           {
            "marker": {
             "colorbar": {
              "outlinewidth": 0,
              "ticks": ""
             }
            },
            "type": "scattermapbox"
           }
          ],
          "scatterpolar": [
           {
            "marker": {
             "colorbar": {
              "outlinewidth": 0,
              "ticks": ""
             }
            },
            "type": "scatterpolar"
           }
          ],
          "scatterpolargl": [
           {
            "marker": {
             "colorbar": {
              "outlinewidth": 0,
              "ticks": ""
             }
            },
            "type": "scatterpolargl"
           }
          ],
          "scatterternary": [
           {
            "marker": {
             "colorbar": {
              "outlinewidth": 0,
              "ticks": ""
             }
            },
            "type": "scatterternary"
           }
          ],
          "surface": [
           {
            "colorbar": {
             "outlinewidth": 0,
             "ticks": ""
            },
            "colorscale": [
             [
              0,
              "#0d0887"
             ],
             [
              0.1111111111111111,
              "#46039f"
             ],
             [
              0.2222222222222222,
              "#7201a8"
             ],
             [
              0.3333333333333333,
              "#9c179e"
             ],
             [
              0.4444444444444444,
              "#bd3786"
             ],
             [
              0.5555555555555556,
              "#d8576b"
             ],
             [
              0.6666666666666666,
              "#ed7953"
             ],
             [
              0.7777777777777778,
              "#fb9f3a"
             ],
             [
              0.8888888888888888,
              "#fdca26"
             ],
             [
              1,
              "#f0f921"
             ]
            ],
            "type": "surface"
           }
          ],
          "table": [
           {
            "cells": {
             "fill": {
              "color": "#EBF0F8"
             },
             "line": {
              "color": "white"
             }
            },
            "header": {
             "fill": {
              "color": "#C8D4E3"
             },
             "line": {
              "color": "white"
             }
            },
            "type": "table"
           }
          ]
         },
         "layout": {
          "annotationdefaults": {
           "arrowcolor": "#2a3f5f",
           "arrowhead": 0,
           "arrowwidth": 1
          },
          "autotypenumbers": "strict",
          "coloraxis": {
           "colorbar": {
            "outlinewidth": 0,
            "ticks": ""
           }
          },
          "colorscale": {
           "diverging": [
            [
             0,
             "#8e0152"
            ],
            [
             0.1,
             "#c51b7d"
            ],
            [
             0.2,
             "#de77ae"
            ],
            [
             0.3,
             "#f1b6da"
            ],
            [
             0.4,
             "#fde0ef"
            ],
            [
             0.5,
             "#f7f7f7"
            ],
            [
             0.6,
             "#e6f5d0"
            ],
            [
             0.7,
             "#b8e186"
            ],
            [
             0.8,
             "#7fbc41"
            ],
            [
             0.9,
             "#4d9221"
            ],
            [
             1,
             "#276419"
            ]
           ],
           "sequential": [
            [
             0,
             "#0d0887"
            ],
            [
             0.1111111111111111,
             "#46039f"
            ],
            [
             0.2222222222222222,
             "#7201a8"
            ],
            [
             0.3333333333333333,
             "#9c179e"
            ],
            [
             0.4444444444444444,
             "#bd3786"
            ],
            [
             0.5555555555555556,
             "#d8576b"
            ],
            [
             0.6666666666666666,
             "#ed7953"
            ],
            [
             0.7777777777777778,
             "#fb9f3a"
            ],
            [
             0.8888888888888888,
             "#fdca26"
            ],
            [
             1,
             "#f0f921"
            ]
           ],
           "sequentialminus": [
            [
             0,
             "#0d0887"
            ],
            [
             0.1111111111111111,
             "#46039f"
            ],
            [
             0.2222222222222222,
             "#7201a8"
            ],
            [
             0.3333333333333333,
             "#9c179e"
            ],
            [
             0.4444444444444444,
             "#bd3786"
            ],
            [
             0.5555555555555556,
             "#d8576b"
            ],
            [
             0.6666666666666666,
             "#ed7953"
            ],
            [
             0.7777777777777778,
             "#fb9f3a"
            ],
            [
             0.8888888888888888,
             "#fdca26"
            ],
            [
             1,
             "#f0f921"
            ]
           ]
          },
          "colorway": [
           "#636efa",
           "#EF553B",
           "#00cc96",
           "#ab63fa",
           "#FFA15A",
           "#19d3f3",
           "#FF6692",
           "#B6E880",
           "#FF97FF",
           "#FECB52"
          ],
          "font": {
           "color": "#2a3f5f"
          },
          "geo": {
           "bgcolor": "white",
           "lakecolor": "white",
           "landcolor": "#E5ECF6",
           "showlakes": true,
           "showland": true,
           "subunitcolor": "white"
          },
          "hoverlabel": {
           "align": "left"
          },
          "hovermode": "closest",
          "mapbox": {
           "style": "light"
          },
          "paper_bgcolor": "white",
          "plot_bgcolor": "#E5ECF6",
          "polar": {
           "angularaxis": {
            "gridcolor": "white",
            "linecolor": "white",
            "ticks": ""
           },
           "bgcolor": "#E5ECF6",
           "radialaxis": {
            "gridcolor": "white",
            "linecolor": "white",
            "ticks": ""
           }
          },
          "scene": {
           "xaxis": {
            "backgroundcolor": "#E5ECF6",
            "gridcolor": "white",
            "gridwidth": 2,
            "linecolor": "white",
            "showbackground": true,
            "ticks": "",
            "zerolinecolor": "white"
           },
           "yaxis": {
            "backgroundcolor": "#E5ECF6",
            "gridcolor": "white",
            "gridwidth": 2,
            "linecolor": "white",
            "showbackground": true,
            "ticks": "",
            "zerolinecolor": "white"
           },
           "zaxis": {
            "backgroundcolor": "#E5ECF6",
            "gridcolor": "white",
            "gridwidth": 2,
            "linecolor": "white",
            "showbackground": true,
            "ticks": "",
            "zerolinecolor": "white"
           }
          },
          "shapedefaults": {
           "line": {
            "color": "#2a3f5f"
           }
          },
          "ternary": {
           "aaxis": {
            "gridcolor": "white",
            "linecolor": "white",
            "ticks": ""
           },
           "baxis": {
            "gridcolor": "white",
            "linecolor": "white",
            "ticks": ""
           },
           "bgcolor": "#E5ECF6",
           "caxis": {
            "gridcolor": "white",
            "linecolor": "white",
            "ticks": ""
           }
          },
          "title": {
           "x": 0.05
          },
          "xaxis": {
           "automargin": true,
           "gridcolor": "white",
           "linecolor": "white",
           "ticks": "",
           "title": {
            "standoff": 15
           },
           "zerolinecolor": "white",
           "zerolinewidth": 2
          },
          "yaxis": {
           "automargin": true,
           "gridcolor": "white",
           "linecolor": "white",
           "ticks": "",
           "title": {
            "standoff": 15
           },
           "zerolinecolor": "white",
           "zerolinewidth": 2
          }
         }
        },
        "xaxis": {
         "autorange": true,
         "domain": [
          0,
          1
         ],
         "range": [
          -2.5825242718446604,
          2.5825242718446604
         ],
         "type": "linear"
        },
        "yaxis": {
         "autorange": true,
         "domain": [
          0,
          1
         ],
         "range": [
          -0.09902912621359222,
          1.2990291262135922
         ],
         "scaleanchor": "x",
         "scaleratio": 1,
         "type": "linear"
        }
       }
      },
      "image/png": "[encoded data removed]",
      "text/html": [
       "<div>                            <div id=\"a59d1e34-6754-4d37-b9d3-c4f70c85ac74\" class=\"plotly-graph-div\" style=\"height:525px; width:100%;\"></div>            <script type=\"text/javascript\">                require([\"plotly\"], function(Plotly) {                    window.PLOTLYENV=window.PLOTLYENV || {};                                    if (document.getElementById(\"a59d1e34-6754-4d37-b9d3-c4f70c85ac74\")) {                    Plotly.newPlot(                        \"a59d1e34-6754-4d37-b9d3-c4f70c85ac74\",                        [{\"name\":\"main root\",\"x\":[0,0],\"y\":[0,1],\"type\":\"scatter\"},{\"name\":\"lateral root tip 1\",\"x\":[0.5],\"y\":[0.8],\"type\":\"scatter\"},{\"name\":\"lateral root tip 2\",\"x\":[-0.5],\"y\":[1.2],\"type\":\"scatter\"}],                        {\"template\":{\"data\":{\"histogram2dcontour\":[{\"type\":\"histogram2dcontour\",\"colorbar\":{\"outlinewidth\":0,\"ticks\":\"\"},\"colorscale\":[[0.0,\"#0d0887\"],[0.1111111111111111,\"#46039f\"],[0.2222222222222222,\"#7201a8\"],[0.3333333333333333,\"#9c179e\"],[0.4444444444444444,\"#bd3786\"],[0.5555555555555556,\"#d8576b\"],[0.6666666666666666,\"#ed7953\"],[0.7777777777777778,\"#fb9f3a\"],[0.8888888888888888,\"#fdca26\"],[1.0,\"#f0f921\"]]}],\"choropleth\":[{\"type\":\"choropleth\",\"colorbar\":{\"outlinewidth\":0,\"ticks\":\"\"}}],\"histogram2d\":[{\"type\":\"histogram2d\",\"colorbar\":{\"outlinewidth\":0,\"ticks\":\"\"},\"colorscale\":[[0.0,\"#0d0887\"],[0.1111111111111111,\"#46039f\"],[0.2222222222222222,\"#7201a8\"],[0.3333333333333333,\"#9c179e\"],[0.4444444444444444,\"#bd3786\"],[0.5555555555555556,\"#d8576b\"],[0.6666666666666666,\"#ed7953\"],[0.7777777777777778,\"#fb9f3a\"],[0.8888888888888888,\"#fdca26\"],[1.0,\"#f0f921\"]]}],\"heatmap\":[{\"type\":\"heatmap\",\"colorbar\":{\"outlinewidth\":0,\"ticks\":\"\"},\"colorscale\":[[0.0,\"#0d0887\"],[0.1111111111111111,\"#46039f\"],[0.2222222222222222,\"#7201a8\"],[0.3333333333333333,\"#9c179e\"],[0.4444444444444444,\"#bd3786\"],[0.5555555555555556,\"#d8576b\"],[0.6666666666666666,\"#ed7953\"],[0.7777777777777778,\"#fb9f3a\"],[0.8888888888888888,\"#fdca26\"],[1.0,\"#f0f921\"]]}],\"heatmapgl\":[{\"type\":\"heatmapgl\",\"colorbar\":{\"outlinewidth\":0,\"ticks\":\"\"},\"colorscale\":[[0.0,\"#0d0887\"],[0.1111111111111111,\"#46039f\"],[0.2222222222222222,\"#7201a8\"],[0.3333333333333333,\"#9c179e\"],[0.4444444444444444,\"#bd3786\"],[0.5555555555555556,\"#d8576b\"],[0.6666666666666666,\"#ed7953\"],[0.7777777777777778,\"#fb9f3a\"],[0.8888888888888888,\"#fdca26\"],[1.0,\"#f0f921\"]]}],\"contourcarpet\":[{\"type\":\"contourcarpet\",\"colorbar\":{\"outlinewidth\":0,\"ticks\":\"\"}}],\"contour\":[{\"type\":\"contour\",\"colorbar\":{\"outlinewidth\":0,\"ticks\":\"\"},\"colorscale\":[[0.0,\"#0d0887\"],[0.1111111111111111,\"#46039f\"],[0.2222222222222222,\"#7201a8\"],[0.3333333333333333,\"#9c179e\"],[0.4444444444444444,\"#bd3786\"],[0.5555555555555556,\"#d8576b\"],[0.6666666666666666,\"#ed7953\"],[0.7777777777777778,\"#fb9f3a\"],[0.8888888888888888,\"#fdca26\"],[1.0,\"#f0f921\"]]}],\"surface\":[{\"type\":\"surface\",\"colorbar\":{\"outlinewidth\":0,\"ticks\":\"\"},\"colorscale\":[[0.0,\"#0d0887\"],[0.1111111111111111,\"#46039f\"],[0.2222222222222222,\"#7201a8\"],[0.3333333333333333,\"#9c179e\"],[0.4444444444444444,\"#bd3786\"],[0.5555555555555556,\"#d8576b\"],[0.6666666666666666,\"#ed7953\"],[0.7777777777777778,\"#fb9f3a\"],[0.8888888888888888,\"#fdca26\"],[1.0,\"#f0f921\"]]}],\"mesh3d\":[{\"type\":\"mesh3d\",\"colorbar\":{\"outlinewidth\":0,\"ticks\":\"\"}}],\"scatter\":[{\"fillpattern\":{\"fillmode\":\"overlay\",\"size\":10,\"solidity\":0.2},\"type\":\"scatter\"}],\"parcoords\":[{\"type\":\"parcoords\",\"line\":{\"colorbar\":{\"outlinewidth\":0,\"ticks\":\"\"}}}],\"scatterpolargl\":[{\"type\":\"scatterpolargl\",\"marker\":{\"colorbar\":{\"outlinewidth\":0,\"ticks\":\"\"}}}],\"bar\":[{\"error_x\":{\"color\":\"#2a3f5f\"},\"error_y\":{\"color\":\"#2a3f5f\"},\"marker\":{\"line\":{\"color\":\"#E5ECF6\",\"width\":0.5},\"pattern\":{\"fillmode\":\"overlay\",\"size\":10,\"solidity\":0.2}},\"type\":\"bar\"}],\"scattergeo\":[{\"type\":\"scattergeo\",\"marker\":{\"colorbar\":{\"outlinewidth\":0,\"ticks\":\"\"}}}],\"scatterpolar\":[{\"type\":\"scatterpolar\",\"marker\":{\"colorbar\":{\"outlinewidth\":0,\"ticks\":\"\"}}}],\"histogram\":[{\"marker\":{\"pattern\":{\"fillmode\":\"overlay\",\"size\":10,\"solidity\":0.2}},\"type\":\"histogram\"}],\"scattergl\":[{\"type\":\"scattergl\",\"marker\":{\"colorbar\":{\"outlinewidth\":0,\"ticks\":\"\"}}}],\"scatter3d\":[{\"type\":\"scatter3d\",\"line\":{\"colorbar\":{\"outlinewidth\":0,\"ticks\":\"\"}},\"marker\":{\"colorbar\":{\"outlinewidth\":0,\"ticks\":\"\"}}}],\"scattermapbox\":[{\"type\":\"scattermapbox\",\"marker\":{\"colorbar\":{\"outlinewidth\":0,\"ticks\":\"\"}}}],\"scatterternary\":[{\"type\":\"scatterternary\",\"marker\":{\"colorbar\":{\"outlinewidth\":0,\"ticks\":\"\"}}}],\"scattercarpet\":[{\"type\":\"scattercarpet\",\"marker\":{\"colorbar\":{\"outlinewidth\":0,\"ticks\":\"\"}}}],\"carpet\":[{\"aaxis\":{\"endlinecolor\":\"#2a3f5f\",\"gridcolor\":\"white\",\"linecolor\":\"white\",\"minorgridcolor\":\"white\",\"startlinecolor\":\"#2a3f5f\"},\"baxis\":{\"endlinecolor\":\"#2a3f5f\",\"gridcolor\":\"white\",\"linecolor\":\"white\",\"minorgridcolor\":\"white\",\"startlinecolor\":\"#2a3f5f\"},\"type\":\"carpet\"}],\"table\":[{\"cells\":{\"fill\":{\"color\":\"#EBF0F8\"},\"line\":{\"color\":\"white\"}},\"header\":{\"fill\":{\"color\":\"#C8D4E3\"},\"line\":{\"color\":\"white\"}},\"type\":\"table\"}],\"barpolar\":[{\"marker\":{\"line\":{\"color\":\"#E5ECF6\",\"width\":0.5},\"pattern\":{\"fillmode\":\"overlay\",\"size\":10,\"solidity\":0.2}},\"type\":\"barpolar\"}],\"pie\":[{\"automargin\":true,\"type\":\"pie\"}]},\"layout\":{\"autotypenumbers\":\"strict\",\"colorway\":[\"#636efa\",\"#EF553B\",\"#00cc96\",\"#ab63fa\",\"#FFA15A\",\"#19d3f3\",\"#FF6692\",\"#B6E880\",\"#FF97FF\",\"#FECB52\"],\"font\":{\"color\":\"#2a3f5f\"},\"hovermode\":\"closest\",\"hoverlabel\":{\"align\":\"left\"},\"paper_bgcolor\":\"white\",\"plot_bgcolor\":\"#E5ECF6\",\"polar\":{\"bgcolor\":\"#E5ECF6\",\"angularaxis\":{\"gridcolor\":\"white\",\"linecolor\":\"white\",\"ticks\":\"\"},\"radialaxis\":{\"gridcolor\":\"white\",\"linecolor\":\"white\",\"ticks\":\"\"}},\"ternary\":{\"bgcolor\":\"#E5ECF6\",\"aaxis\":{\"gridcolor\":\"white\",\"linecolor\":\"white\",\"ticks\":\"\"},\"baxis\":{\"gridcolor\":\"white\",\"linecolor\":\"white\",\"ticks\":\"\"},\"caxis\":{\"gridcolor\":\"white\",\"linecolor\":\"white\",\"ticks\":\"\"}},\"coloraxis\":{\"colorbar\":{\"outlinewidth\":0,\"ticks\":\"\"}},\"colorscale\":{\"sequential\":[[0.0,\"#0d0887\"],[0.1111111111111111,\"#46039f\"],[0.2222222222222222,\"#7201a8\"],[0.3333333333333333,\"#9c179e\"],[0.4444444444444444,\"#bd3786\"],[0.5555555555555556,\"#d8576b\"],[0.6666666666666666,\"#ed7953\"],[0.7777777777777778,\"#fb9f3a\"],[0.8888888888888888,\"#fdca26\"],[1.0,\"#f0f921\"]],\"sequentialminus\":[[0.0,\"#0d0887\"],[0.1111111111111111,\"#46039f\"],[0.2222222222222222,\"#7201a8\"],[0.3333333333333333,\"#9c179e\"],[0.4444444444444444,\"#bd3786\"],[0.5555555555555556,\"#d8576b\"],[0.6666666666666666,\"#ed7953\"],[0.7777777777777778,\"#fb9f3a\"],[0.8888888888888888,\"#fdca26\"],[1.0,\"#f0f921\"]],\"diverging\":[[0,\"#8e0152\"],[0.1,\"#c51b7d\"],[0.2,\"#de77ae\"],[0.3,\"#f1b6da\"],[0.4,\"#fde0ef\"],[0.5,\"#f7f7f7\"],[0.6,\"#e6f5d0\"],[0.7,\"#b8e186\"],[0.8,\"#7fbc41\"],[0.9,\"#4d9221\"],[1,\"#276419\"]]},\"xaxis\":{\"gridcolor\":\"white\",\"linecolor\":\"white\",\"ticks\":\"\",\"title\":{\"standoff\":15},\"zerolinecolor\":\"white\",\"automargin\":true,\"zerolinewidth\":2},\"yaxis\":{\"gridcolor\":\"white\",\"linecolor\":\"white\",\"ticks\":\"\",\"title\":{\"standoff\":15},\"zerolinecolor\":\"white\",\"automargin\":true,\"zerolinewidth\":2},\"scene\":{\"xaxis\":{\"backgroundcolor\":\"#E5ECF6\",\"gridcolor\":\"white\",\"linecolor\":\"white\",\"showbackground\":true,\"ticks\":\"\",\"zerolinecolor\":\"white\",\"gridwidth\":2},\"yaxis\":{\"backgroundcolor\":\"#E5ECF6\",\"gridcolor\":\"white\",\"linecolor\":\"white\",\"showbackground\":true,\"ticks\":\"\",\"zerolinecolor\":\"white\",\"gridwidth\":2},\"zaxis\":{\"backgroundcolor\":\"#E5ECF6\",\"gridcolor\":\"white\",\"linecolor\":\"white\",\"showbackground\":true,\"ticks\":\"\",\"zerolinecolor\":\"white\",\"gridwidth\":2}},\"shapedefaults\":{\"line\":{\"color\":\"#2a3f5f\"}},\"annotationdefaults\":{\"arrowcolor\":\"#2a3f5f\",\"arrowhead\":0,\"arrowwidth\":1},\"geo\":{\"bgcolor\":\"white\",\"landcolor\":\"#E5ECF6\",\"subunitcolor\":\"white\",\"showland\":true,\"showlakes\":true,\"lakecolor\":\"white\"},\"title\":{\"x\":0.05},\"mapbox\":{\"style\":\"light\"}}},\"yaxis\":{\"scaleanchor\":\"x\",\"scaleratio\":1}},                        {\"responsive\": true}                    ).then(function(){\n",
       "                            \n",
       "var gd = document.getElementById('a59d1e34-6754-4d37-b9d3-c4f70c85ac74');\n",
       "var x = new MutationObserver(function (mutations, observer) {{\n",
       "        var display = window.getComputedStyle(gd).display;\n",
       "        if (!display || display === 'none') {{\n",
       "            console.log([gd, 'removed!']);\n",
       "            Plotly.purge(gd);\n",
       "            observer.disconnect();\n",
       "        }}\n",
       "}});\n",
       "\n",
       "// Listen for the removal of the full notebook cells\n",
       "var notebookContainer = gd.closest('#notebook-container');\n",
       "if (notebookContainer) {{\n",
       "    x.observe(notebookContainer, {childList: true});\n",
       "}}\n",
       "\n",
       "// Listen for the clearing of the current output cell\n",
       "var outputEl = gd.closest('.output');\n",
       "if (outputEl) {{\n",
       "    x.observe(outputEl, {childList: true});\n",
       "}}\n",
       "\n",
       "                        })                };                });            </script>        </div>"
      ]
     },
     "metadata": {},
     "output_type": "display_data"
    }
   ],
   "source": [
    "fig = go.Figure()\n",
    "fig.add_trace(main)\n",
    "fig.add_trace(pq)\n",
    "fig.add_trace(pq2)\n",
    "#fig.update_xaxes(range=[-1, 1])\n",
    "#fig.update_yaxes(range=[-1.05, 0.05])\n",
    "\n",
    "fig.update_yaxes(\n",
    "    scaleanchor = \"x\",\n",
    "    scaleratio = 1\n",
    ")\n",
    "fig.show()"
   ]
  },
  {
   "cell_type": "code",
   "execution_count": 177,
   "id": "ded45108-8c17-4dd8-bd7e-7c95c2838f2e",
   "metadata": {},
   "outputs": [],
   "source": [
    "def critical_points(G, alpha, tmin=pylab.inf, tmax=0):\n",
    "    G_squared = G ** 2\n",
    "    p_squared = p ** 2\n",
    "    alpha2 = 2 * alpha\n",
    "    alpha_squared = alpha ** 2\n",
    "    denominator = alpha2 - alpha_squared\n",
    "    radicand = G_squared * p_squared + (1 / denominator)\n",
    "    radical = pylab.sqrt(radicand)\n",
    "    bstar_plus = (-G * p) + (1 - alpha) * radical\n",
    "    bstar_minus = (-G * p) - (1 - alpha) * radical\n",
    "    tstar1 = (-G * p_squared) + q - p * bstar_plus\n",
    "    tstar2 = (-G * p_squared) + q - p * bstar_minus\n",
    "\n",
    "    print(\"t*\", tstar1, tstar2)\n",
    "    \n",
    "    critical_points = [tmin, tmax]\n",
    "    if tstar1 >= tmin and tstar1 <= tmax:\n",
    "        critical_points.append(tstar1)\n",
    "    if tstar2 >= tmin and tstar2 <= tmax:\n",
    "        critical_points.append(tstar2)\n",
    "        \n",
    "    return critical_points"
   ]
  },
  {
   "cell_type": "code",
   "execution_count": 178,
   "id": "f76a6782-4055-40c3-a430-ea4bf60b4917",
   "metadata": {},
   "outputs": [],
   "source": [
    "def sec(theta):\n",
    "    return 1 / pylab.cos(theta)\n",
    "\n",
    "def tan(theta):\n",
    "    return pylab.tan(theta)"
   ]
  },
  {
   "cell_type": "code",
   "execution_count": 250,
   "id": "8a5328d6-b227-4f58-85b0-18ffa3b0590f",
   "metadata": {},
   "outputs": [],
   "source": [
    "def evaluate_solution(G, alpha, p, q, t):\n",
    "    p_squared = p ** 2\n",
    "    numerator = q - (G * p_squared) - t\n",
    "    frac = numerator / p\n",
    "    theta0 = pylab.arctan(frac)\n",
    "    thetap = pylab.arctan((2 * G * p) + frac)\n",
    "\n",
    "    def antiderivative(theta):\n",
    "        const = 1 / (4 * G)\n",
    "        term1 = sec(theta) * tan(theta)\n",
    "        term2 = pylab.log(pylab.abs(sec(theta) + tan(theta)))\n",
    "        return const * (term1 + term2)\n",
    "\n",
    "    def differential_length(x):\n",
    "        return pylab.sqrt(1 + ((2 * G * x) + (frac)) ** 2)\n",
    "\n",
    "    def wiring_approx():\n",
    "        return integrate.quad(differential_length, 0, p)\n",
    "\n",
    "    wiring = None\n",
    "    if G != 0:\n",
    "        wiring = antiderivative(max(theta0, thetap)) - antiderivative(min(theta0, thetap))\n",
    "    else:\n",
    "        wiring = euclidean((0, t), (p, q))\n",
    "    delay = wiring + abs(t)\n",
    "    return (alpha * wiring) + ((1 - alpha) * delay)"
   ]
  },
  {
   "cell_type": "code",
   "execution_count": 251,
   "id": "8bee7f4e-b426-4713-80e0-2811a0f7606d",
   "metadata": {},
   "outputs": [],
   "source": [
    "def add_example(G, alpha, p, q, fig):\n",
    "    a = G\n",
    "    best_cost = pylab.inf\n",
    "    best_t = None\n",
    "    y_opt = None\n",
    "    crit_points = critical_points(G, alpha, tmin, tmax)\n",
    "    print(crit_points)\n",
    "    x_opt = pylab.linspace(min(0, p), max(0, p))\n",
    "    for t in crit_points:\n",
    "        cost = evaluate_solution(G, alpha, p, q, t)\n",
    "        print(t, cost, best_cost)\n",
    "        if cost < best_cost:\n",
    "            best_cost = cost\n",
    "            best_t = t\n",
    "            b = ((-G * (p ** 2)) + q - t) / p\n",
    "            c = t\n",
    "            y_opt = a * x_opt ** 2 + b * x_opt + c\n",
    "        \n",
    "    opt_line = go.Scatter(x=x_opt, y=y_opt, mode=\"lines\", name = \"G = %0.2f %s = %0.2f\" % (G, chr(945), alpha))\n",
    "    \n",
    "    \n",
    "    fig.add_trace(opt_line)\n",
    "    "
   ]
  },
  {
   "cell_type": "code",
   "execution_count": 276,
   "id": "95e63a51-6ed8-41b5-bfef-f9e6ffae6bab",
   "metadata": {},
   "outputs": [
    {
     "data": {
      "application/vnd.plotly.v1+json": {
       "config": {
        "plotlyServerURL": "https://plot.ly"
       },
       "data": [
        {
         "name": "main root",
         "type": "scatter",
         "x": [
          0,
          0
         ],
         "y": [
          0,
          1
         ]
        },
        {
         "name": "lateral root tip 1",
         "type": "scatter",
         "x": [
          0.5
         ],
         "y": [
          0.8
         ]
        },
        {
         "name": "lateral root tip 2",
         "type": "scatter",
         "x": [
          -0.5
         ],
         "y": [
          1.2
         ]
        }
       ],
       "layout": {
        "autosize": true,
        "template": {
         "data": {
          "bar": [
           {
            "error_x": {
             "color": "#2a3f5f"
            },
            "error_y": {
             "color": "#2a3f5f"
            },
            "marker": {
             "line": {
              "color": "#E5ECF6",
              "width": 0.5
             },
             "pattern": {
              "fillmode": "overlay",
              "size": 10,
              "solidity": 0.2
             }
            },
            "type": "bar"
           }
          ],
          "barpolar": [
           {
            "marker": {
             "line": {
              "color": "#E5ECF6",
              "width": 0.5
             },
             "pattern": {
              "fillmode": "overlay",
              "size": 10,
              "solidity": 0.2
             }
            },
            "type": "barpolar"
           }
          ],
          "carpet": [
           {
            "aaxis": {
             "endlinecolor": "#2a3f5f",
             "gridcolor": "white",
             "linecolor": "white",
             "minorgridcolor": "white",
             "startlinecolor": "#2a3f5f"
            },
            "baxis": {
             "endlinecolor": "#2a3f5f",
             "gridcolor": "white",
             "linecolor": "white",
             "minorgridcolor": "white",
             "startlinecolor": "#2a3f5f"
            },
            "type": "carpet"
           }
          ],
          "choropleth": [
           {
            "colorbar": {
             "outlinewidth": 0,
             "ticks": ""
            },
            "type": "choropleth"
           }
          ],
          "contour": [
           {
            "colorbar": {
             "outlinewidth": 0,
             "ticks": ""
            },
            "colorscale": [
             [
              0,
              "#0d0887"
             ],
             [
              0.1111111111111111,
              "#46039f"
             ],
             [
              0.2222222222222222,
              "#7201a8"
             ],
             [
              0.3333333333333333,
              "#9c179e"
             ],
             [
              0.4444444444444444,
              "#bd3786"
             ],
             [
              0.5555555555555556,
              "#d8576b"
             ],
             [
              0.6666666666666666,
              "#ed7953"
             ],
             [
              0.7777777777777778,
              "#fb9f3a"
             ],
             [
              0.8888888888888888,
              "#fdca26"
             ],
             [
              1,
              "#f0f921"
             ]
            ],
            "type": "contour"
           }
          ],
          "contourcarpet": [
           {
            "colorbar": {
             "outlinewidth": 0,
             "ticks": ""
            },
            "type": "contourcarpet"
           }
          ],
          "heatmap": [
           {
            "colorbar": {
             "outlinewidth": 0,
             "ticks": ""
            },
            "colorscale": [
             [
              0,
              "#0d0887"
             ],
             [
              0.1111111111111111,
              "#46039f"
             ],
             [
              0.2222222222222222,
              "#7201a8"
             ],
             [
              0.3333333333333333,
              "#9c179e"
             ],
             [
              0.4444444444444444,
              "#bd3786"
             ],
             [
              0.5555555555555556,
              "#d8576b"
             ],
             [
              0.6666666666666666,
              "#ed7953"
             ],
             [
              0.7777777777777778,
              "#fb9f3a"
             ],
             [
              0.8888888888888888,
              "#fdca26"
             ],
             [
              1,
              "#f0f921"
             ]
            ],
            "type": "heatmap"
           }
          ],
          "heatmapgl": [
           {
            "colorbar": {
             "outlinewidth": 0,
             "ticks": ""
            },
            "colorscale": [
             [
              0,
              "#0d0887"
             ],
             [
              0.1111111111111111,
              "#46039f"
             ],
             [
              0.2222222222222222,
              "#7201a8"
             ],
             [
              0.3333333333333333,
              "#9c179e"
             ],
             [
              0.4444444444444444,
              "#bd3786"
             ],
             [
              0.5555555555555556,
              "#d8576b"
             ],
             [
              0.6666666666666666,
              "#ed7953"
             ],
             [
              0.7777777777777778,
              "#fb9f3a"
             ],
             [
              0.8888888888888888,
              "#fdca26"
             ],
             [
              1,
              "#f0f921"
             ]
            ],
            "type": "heatmapgl"
           }
          ],
          "histogram": [
           {
            "marker": {
             "pattern": {
              "fillmode": "overlay",
              "size": 10,
              "solidity": 0.2
             }
            },
            "type": "histogram"
           }
          ],
          "histogram2d": [
           {
            "colorbar": {
             "outlinewidth": 0,
             "ticks": ""
            },
            "colorscale": [
             [
              0,
              "#0d0887"
             ],
             [
              0.1111111111111111,
              "#46039f"
             ],
             [
              0.2222222222222222,
              "#7201a8"
             ],
             [
              0.3333333333333333,
              "#9c179e"
             ],
             [
              0.4444444444444444,
              "#bd3786"
             ],
             [
              0.5555555555555556,
              "#d8576b"
             ],
             [
              0.6666666666666666,
              "#ed7953"
             ],
             [
              0.7777777777777778,
              "#fb9f3a"
             ],
             [
              0.8888888888888888,
              "#fdca26"
             ],
             [
              1,
              "#f0f921"
             ]
            ],
            "type": "histogram2d"
           }
          ],
          "histogram2dcontour": [
           {
            "colorbar": {
             "outlinewidth": 0,
             "ticks": ""
            },
            "colorscale": [
             [
              0,
              "#0d0887"
             ],
             [
              0.1111111111111111,
              "#46039f"
             ],
             [
              0.2222222222222222,
              "#7201a8"
             ],
             [
              0.3333333333333333,
              "#9c179e"
             ],
             [
              0.4444444444444444,
              "#bd3786"
             ],
             [
              0.5555555555555556,
              "#d8576b"
             ],
             [
              0.6666666666666666,
              "#ed7953"
             ],
             [
              0.7777777777777778,
              "#fb9f3a"
             ],
             [
              0.8888888888888888,
              "#fdca26"
             ],
             [
              1,
              "#f0f921"
             ]
            ],
            "type": "histogram2dcontour"
           }
          ],
          "mesh3d": [
           {
            "colorbar": {
             "outlinewidth": 0,
             "ticks": ""
            },
            "type": "mesh3d"
           }
          ],
          "parcoords": [
           {
            "line": {
             "colorbar": {
              "outlinewidth": 0,
              "ticks": ""
             }
            },
            "type": "parcoords"
           }
          ],
          "pie": [
           {
            "automargin": true,
            "type": "pie"
           }
          ],
          "scatter": [
           {
            "fillpattern": {
             "fillmode": "overlay",
             "size": 10,
             "solidity": 0.2
            },
            "type": "scatter"
           }
          ],
          "scatter3d": [
           {
            "line": {
             "colorbar": {
              "outlinewidth": 0,
              "ticks": ""
             }
            },
            "marker": {
             "colorbar": {
              "outlinewidth": 0,
              "ticks": ""
             }
            },
            "type": "scatter3d"
           }
          ],
          "scattercarpet": [
           {
            "marker": {
             "colorbar": {
              "outlinewidth": 0,
              "ticks": ""
             }
            },
            "type": "scattercarpet"
           }
          ],
          "scattergeo": [
           {
            "marker": {
             "colorbar": {
              "outlinewidth": 0,
              "ticks": ""
             }
            },
            "type": "scattergeo"
           }
          ],
          "scattergl": [
           {
            "marker": {
             "colorbar": {
              "outlinewidth": 0,
              "ticks": ""
             }
            },
            "type": "scattergl"
           }
          ],
          "scattermapbox": [
           {
            "marker": {
             "colorbar": {
              "outlinewidth": 0,
              "ticks": ""
             }
            },
            "type": "scattermapbox"
           }
          ],
          "scatterpolar": [
           {
            "marker": {
             "colorbar": {
              "outlinewidth": 0,
              "ticks": ""
             }
            },
            "type": "scatterpolar"
           }
          ],
          "scatterpolargl": [
           {
            "marker": {
             "colorbar": {
              "outlinewidth": 0,
              "ticks": ""
             }
            },
            "type": "scatterpolargl"
           }
          ],
          "scatterternary": [
           {
            "marker": {
             "colorbar": {
              "outlinewidth": 0,
              "ticks": ""
             }
            },
            "type": "scatterternary"
           }
          ],
          "surface": [
           {
            "colorbar": {
             "outlinewidth": 0,
             "ticks": ""
            },
            "colorscale": [
             [
              0,
              "#0d0887"
             ],
             [
              0.1111111111111111,
              "#46039f"
             ],
             [
              0.2222222222222222,
              "#7201a8"
             ],
             [
              0.3333333333333333,
              "#9c179e"
             ],
             [
              0.4444444444444444,
              "#bd3786"
             ],
             [
              0.5555555555555556,
              "#d8576b"
             ],
             [
              0.6666666666666666,
              "#ed7953"
             ],
             [
              0.7777777777777778,
              "#fb9f3a"
             ],
             [
              0.8888888888888888,
              "#fdca26"
             ],
             [
              1,
              "#f0f921"
             ]
            ],
            "type": "surface"
           }
          ],
          "table": [
           {
            "cells": {
             "fill": {
              "color": "#EBF0F8"
             },
             "line": {
              "color": "white"
             }
            },
            "header": {
             "fill": {
              "color": "#C8D4E3"
             },
             "line": {
              "color": "white"
             }
            },
            "type": "table"
           }
          ]
         },
         "layout": {
          "annotationdefaults": {
           "arrowcolor": "#2a3f5f",
           "arrowhead": 0,
           "arrowwidth": 1
          },
          "autotypenumbers": "strict",
          "coloraxis": {
           "colorbar": {
            "outlinewidth": 0,
            "ticks": ""
           }
          },
          "colorscale": {
           "diverging": [
            [
             0,
             "#8e0152"
            ],
            [
             0.1,
             "#c51b7d"
            ],
            [
             0.2,
             "#de77ae"
            ],
            [
             0.3,
             "#f1b6da"
            ],
            [
             0.4,
             "#fde0ef"
            ],
            [
             0.5,
             "#f7f7f7"
            ],
            [
             0.6,
             "#e6f5d0"
            ],
            [
             0.7,
             "#b8e186"
            ],
            [
             0.8,
             "#7fbc41"
            ],
            [
             0.9,
             "#4d9221"
            ],
            [
             1,
             "#276419"
            ]
           ],
           "sequential": [
            [
             0,
             "#0d0887"
            ],
            [
             0.1111111111111111,
             "#46039f"
            ],
            [
             0.2222222222222222,
             "#7201a8"
            ],
            [
             0.3333333333333333,
             "#9c179e"
            ],
            [
             0.4444444444444444,
             "#bd3786"
            ],
            [
             0.5555555555555556,
             "#d8576b"
            ],
            [
             0.6666666666666666,
             "#ed7953"
            ],
            [
             0.7777777777777778,
             "#fb9f3a"
            ],
            [
             0.8888888888888888,
             "#fdca26"
            ],
            [
             1,
             "#f0f921"
            ]
           ],
           "sequentialminus": [
            [
             0,
             "#0d0887"
            ],
            [
             0.1111111111111111,
             "#46039f"
            ],
            [
             0.2222222222222222,
             "#7201a8"
            ],
            [
             0.3333333333333333,
             "#9c179e"
            ],
            [
             0.4444444444444444,
             "#bd3786"
            ],
            [
             0.5555555555555556,
             "#d8576b"
            ],
            [
             0.6666666666666666,
             "#ed7953"
            ],
            [
             0.7777777777777778,
             "#fb9f3a"
            ],
            [
             0.8888888888888888,
             "#fdca26"
            ],
            [
             1,
             "#f0f921"
            ]
           ]
          },
          "colorway": [
           "#636efa",
           "#EF553B",
           "#00cc96",
           "#ab63fa",
           "#FFA15A",
           "#19d3f3",
           "#FF6692",
           "#B6E880",
           "#FF97FF",
           "#FECB52"
          ],
          "font": {
           "color": "#2a3f5f"
          },
          "geo": {
           "bgcolor": "white",
           "lakecolor": "white",
           "landcolor": "#E5ECF6",
           "showlakes": true,
           "showland": true,
           "subunitcolor": "white"
          },
          "hoverlabel": {
           "align": "left"
          },
          "hovermode": "closest",
          "mapbox": {
           "style": "light"
          },
          "paper_bgcolor": "white",
          "plot_bgcolor": "#E5ECF6",
          "polar": {
           "angularaxis": {
            "gridcolor": "white",
            "linecolor": "white",
            "ticks": ""
           },
           "bgcolor": "#E5ECF6",
           "radialaxis": {
            "gridcolor": "white",
            "linecolor": "white",
            "ticks": ""
           }
          },
          "scene": {
           "xaxis": {
            "backgroundcolor": "#E5ECF6",
            "gridcolor": "white",
            "gridwidth": 2,
            "linecolor": "white",
            "showbackground": true,
            "ticks": "",
            "zerolinecolor": "white"
           },
           "yaxis": {
            "backgroundcolor": "#E5ECF6",
            "gridcolor": "white",
            "gridwidth": 2,
            "linecolor": "white",
            "showbackground": true,
            "ticks": "",
            "zerolinecolor": "white"
           },
           "zaxis": {
            "backgroundcolor": "#E5ECF6",
            "gridcolor": "white",
            "gridwidth": 2,
            "linecolor": "white",
            "showbackground": true,
            "ticks": "",
            "zerolinecolor": "white"
           }
          },
          "shapedefaults": {
           "line": {
            "color": "#2a3f5f"
           }
          },
          "ternary": {
           "aaxis": {
            "gridcolor": "white",
            "linecolor": "white",
            "ticks": ""
           },
           "baxis": {
            "gridcolor": "white",
            "linecolor": "white",
            "ticks": ""
           },
           "bgcolor": "#E5ECF6",
           "caxis": {
            "gridcolor": "white",
            "linecolor": "white",
            "ticks": ""
           }
          },
          "title": {
           "x": 0.05
          },
          "xaxis": {
           "automargin": true,
           "gridcolor": "white",
           "linecolor": "white",
           "ticks": "",
           "title": {
            "standoff": 15
           },
           "zerolinecolor": "white",
           "zerolinewidth": 2
          },
          "yaxis": {
           "automargin": true,
           "gridcolor": "white",
           "linecolor": "white",
           "ticks": "",
           "title": {
            "standoff": 15
           },
           "zerolinecolor": "white",
           "zerolinewidth": 2
          }
         }
        },
        "xaxis": {
         "autorange": true,
         "range": [
          -0.562605752961083,
          0.562605752961083
         ],
         "type": "linear"
        },
        "yaxis": {
         "autorange": true,
         "range": [
          -0.09902912621359222,
          1.2990291262135922
         ],
         "type": "linear"
        }
       }
      },
      "image/png": "[encoded data removed]",
      "text/html": [
       "<div>                            <div id=\"d52a8876-029b-4378-b54f-0ed5cc4a2041\" class=\"plotly-graph-div\" style=\"height:525px; width:100%;\"></div>            <script type=\"text/javascript\">                require([\"plotly\"], function(Plotly) {                    window.PLOTLYENV=window.PLOTLYENV || {};                                    if (document.getElementById(\"d52a8876-029b-4378-b54f-0ed5cc4a2041\")) {                    Plotly.newPlot(                        \"d52a8876-029b-4378-b54f-0ed5cc4a2041\",                        [{\"name\":\"main root\",\"x\":[0,0],\"y\":[0,1],\"type\":\"scatter\"},{\"name\":\"lateral root tip 1\",\"x\":[0.5],\"y\":[0.8],\"type\":\"scatter\"},{\"name\":\"lateral root tip 2\",\"x\":[-0.5],\"y\":[1.2],\"type\":\"scatter\"}],                        {\"template\":{\"data\":{\"histogram2dcontour\":[{\"type\":\"histogram2dcontour\",\"colorbar\":{\"outlinewidth\":0,\"ticks\":\"\"},\"colorscale\":[[0.0,\"#0d0887\"],[0.1111111111111111,\"#46039f\"],[0.2222222222222222,\"#7201a8\"],[0.3333333333333333,\"#9c179e\"],[0.4444444444444444,\"#bd3786\"],[0.5555555555555556,\"#d8576b\"],[0.6666666666666666,\"#ed7953\"],[0.7777777777777778,\"#fb9f3a\"],[0.8888888888888888,\"#fdca26\"],[1.0,\"#f0f921\"]]}],\"choropleth\":[{\"type\":\"choropleth\",\"colorbar\":{\"outlinewidth\":0,\"ticks\":\"\"}}],\"histogram2d\":[{\"type\":\"histogram2d\",\"colorbar\":{\"outlinewidth\":0,\"ticks\":\"\"},\"colorscale\":[[0.0,\"#0d0887\"],[0.1111111111111111,\"#46039f\"],[0.2222222222222222,\"#7201a8\"],[0.3333333333333333,\"#9c179e\"],[0.4444444444444444,\"#bd3786\"],[0.5555555555555556,\"#d8576b\"],[0.6666666666666666,\"#ed7953\"],[0.7777777777777778,\"#fb9f3a\"],[0.8888888888888888,\"#fdca26\"],[1.0,\"#f0f921\"]]}],\"heatmap\":[{\"type\":\"heatmap\",\"colorbar\":{\"outlinewidth\":0,\"ticks\":\"\"},\"colorscale\":[[0.0,\"#0d0887\"],[0.1111111111111111,\"#46039f\"],[0.2222222222222222,\"#7201a8\"],[0.3333333333333333,\"#9c179e\"],[0.4444444444444444,\"#bd3786\"],[0.5555555555555556,\"#d8576b\"],[0.6666666666666666,\"#ed7953\"],[0.7777777777777778,\"#fb9f3a\"],[0.8888888888888888,\"#fdca26\"],[1.0,\"#f0f921\"]]}],\"heatmapgl\":[{\"type\":\"heatmapgl\",\"colorbar\":{\"outlinewidth\":0,\"ticks\":\"\"},\"colorscale\":[[0.0,\"#0d0887\"],[0.1111111111111111,\"#46039f\"],[0.2222222222222222,\"#7201a8\"],[0.3333333333333333,\"#9c179e\"],[0.4444444444444444,\"#bd3786\"],[0.5555555555555556,\"#d8576b\"],[0.6666666666666666,\"#ed7953\"],[0.7777777777777778,\"#fb9f3a\"],[0.8888888888888888,\"#fdca26\"],[1.0,\"#f0f921\"]]}],\"contourcarpet\":[{\"type\":\"contourcarpet\",\"colorbar\":{\"outlinewidth\":0,\"ticks\":\"\"}}],\"contour\":[{\"type\":\"contour\",\"colorbar\":{\"outlinewidth\":0,\"ticks\":\"\"},\"colorscale\":[[0.0,\"#0d0887\"],[0.1111111111111111,\"#46039f\"],[0.2222222222222222,\"#7201a8\"],[0.3333333333333333,\"#9c179e\"],[0.4444444444444444,\"#bd3786\"],[0.5555555555555556,\"#d8576b\"],[0.6666666666666666,\"#ed7953\"],[0.7777777777777778,\"#fb9f3a\"],[0.8888888888888888,\"#fdca26\"],[1.0,\"#f0f921\"]]}],\"surface\":[{\"type\":\"surface\",\"colorbar\":{\"outlinewidth\":0,\"ticks\":\"\"},\"colorscale\":[[0.0,\"#0d0887\"],[0.1111111111111111,\"#46039f\"],[0.2222222222222222,\"#7201a8\"],[0.3333333333333333,\"#9c179e\"],[0.4444444444444444,\"#bd3786\"],[0.5555555555555556,\"#d8576b\"],[0.6666666666666666,\"#ed7953\"],[0.7777777777777778,\"#fb9f3a\"],[0.8888888888888888,\"#fdca26\"],[1.0,\"#f0f921\"]]}],\"mesh3d\":[{\"type\":\"mesh3d\",\"colorbar\":{\"outlinewidth\":0,\"ticks\":\"\"}}],\"scatter\":[{\"fillpattern\":{\"fillmode\":\"overlay\",\"size\":10,\"solidity\":0.2},\"type\":\"scatter\"}],\"parcoords\":[{\"type\":\"parcoords\",\"line\":{\"colorbar\":{\"outlinewidth\":0,\"ticks\":\"\"}}}],\"scatterpolargl\":[{\"type\":\"scatterpolargl\",\"marker\":{\"colorbar\":{\"outlinewidth\":0,\"ticks\":\"\"}}}],\"bar\":[{\"error_x\":{\"color\":\"#2a3f5f\"},\"error_y\":{\"color\":\"#2a3f5f\"},\"marker\":{\"line\":{\"color\":\"#E5ECF6\",\"width\":0.5},\"pattern\":{\"fillmode\":\"overlay\",\"size\":10,\"solidity\":0.2}},\"type\":\"bar\"}],\"scattergeo\":[{\"type\":\"scattergeo\",\"marker\":{\"colorbar\":{\"outlinewidth\":0,\"ticks\":\"\"}}}],\"scatterpolar\":[{\"type\":\"scatterpolar\",\"marker\":{\"colorbar\":{\"outlinewidth\":0,\"ticks\":\"\"}}}],\"histogram\":[{\"marker\":{\"pattern\":{\"fillmode\":\"overlay\",\"size\":10,\"solidity\":0.2}},\"type\":\"histogram\"}],\"scattergl\":[{\"type\":\"scattergl\",\"marker\":{\"colorbar\":{\"outlinewidth\":0,\"ticks\":\"\"}}}],\"scatter3d\":[{\"type\":\"scatter3d\",\"line\":{\"colorbar\":{\"outlinewidth\":0,\"ticks\":\"\"}},\"marker\":{\"colorbar\":{\"outlinewidth\":0,\"ticks\":\"\"}}}],\"scattermapbox\":[{\"type\":\"scattermapbox\",\"marker\":{\"colorbar\":{\"outlinewidth\":0,\"ticks\":\"\"}}}],\"scatterternary\":[{\"type\":\"scatterternary\",\"marker\":{\"colorbar\":{\"outlinewidth\":0,\"ticks\":\"\"}}}],\"scattercarpet\":[{\"type\":\"scattercarpet\",\"marker\":{\"colorbar\":{\"outlinewidth\":0,\"ticks\":\"\"}}}],\"carpet\":[{\"aaxis\":{\"endlinecolor\":\"#2a3f5f\",\"gridcolor\":\"white\",\"linecolor\":\"white\",\"minorgridcolor\":\"white\",\"startlinecolor\":\"#2a3f5f\"},\"baxis\":{\"endlinecolor\":\"#2a3f5f\",\"gridcolor\":\"white\",\"linecolor\":\"white\",\"minorgridcolor\":\"white\",\"startlinecolor\":\"#2a3f5f\"},\"type\":\"carpet\"}],\"table\":[{\"cells\":{\"fill\":{\"color\":\"#EBF0F8\"},\"line\":{\"color\":\"white\"}},\"header\":{\"fill\":{\"color\":\"#C8D4E3\"},\"line\":{\"color\":\"white\"}},\"type\":\"table\"}],\"barpolar\":[{\"marker\":{\"line\":{\"color\":\"#E5ECF6\",\"width\":0.5},\"pattern\":{\"fillmode\":\"overlay\",\"size\":10,\"solidity\":0.2}},\"type\":\"barpolar\"}],\"pie\":[{\"automargin\":true,\"type\":\"pie\"}]},\"layout\":{\"autotypenumbers\":\"strict\",\"colorway\":[\"#636efa\",\"#EF553B\",\"#00cc96\",\"#ab63fa\",\"#FFA15A\",\"#19d3f3\",\"#FF6692\",\"#B6E880\",\"#FF97FF\",\"#FECB52\"],\"font\":{\"color\":\"#2a3f5f\"},\"hovermode\":\"closest\",\"hoverlabel\":{\"align\":\"left\"},\"paper_bgcolor\":\"white\",\"plot_bgcolor\":\"#E5ECF6\",\"polar\":{\"bgcolor\":\"#E5ECF6\",\"angularaxis\":{\"gridcolor\":\"white\",\"linecolor\":\"white\",\"ticks\":\"\"},\"radialaxis\":{\"gridcolor\":\"white\",\"linecolor\":\"white\",\"ticks\":\"\"}},\"ternary\":{\"bgcolor\":\"#E5ECF6\",\"aaxis\":{\"gridcolor\":\"white\",\"linecolor\":\"white\",\"ticks\":\"\"},\"baxis\":{\"gridcolor\":\"white\",\"linecolor\":\"white\",\"ticks\":\"\"},\"caxis\":{\"gridcolor\":\"white\",\"linecolor\":\"white\",\"ticks\":\"\"}},\"coloraxis\":{\"colorbar\":{\"outlinewidth\":0,\"ticks\":\"\"}},\"colorscale\":{\"sequential\":[[0.0,\"#0d0887\"],[0.1111111111111111,\"#46039f\"],[0.2222222222222222,\"#7201a8\"],[0.3333333333333333,\"#9c179e\"],[0.4444444444444444,\"#bd3786\"],[0.5555555555555556,\"#d8576b\"],[0.6666666666666666,\"#ed7953\"],[0.7777777777777778,\"#fb9f3a\"],[0.8888888888888888,\"#fdca26\"],[1.0,\"#f0f921\"]],\"sequentialminus\":[[0.0,\"#0d0887\"],[0.1111111111111111,\"#46039f\"],[0.2222222222222222,\"#7201a8\"],[0.3333333333333333,\"#9c179e\"],[0.4444444444444444,\"#bd3786\"],[0.5555555555555556,\"#d8576b\"],[0.6666666666666666,\"#ed7953\"],[0.7777777777777778,\"#fb9f3a\"],[0.8888888888888888,\"#fdca26\"],[1.0,\"#f0f921\"]],\"diverging\":[[0,\"#8e0152\"],[0.1,\"#c51b7d\"],[0.2,\"#de77ae\"],[0.3,\"#f1b6da\"],[0.4,\"#fde0ef\"],[0.5,\"#f7f7f7\"],[0.6,\"#e6f5d0\"],[0.7,\"#b8e186\"],[0.8,\"#7fbc41\"],[0.9,\"#4d9221\"],[1,\"#276419\"]]},\"xaxis\":{\"gridcolor\":\"white\",\"linecolor\":\"white\",\"ticks\":\"\",\"title\":{\"standoff\":15},\"zerolinecolor\":\"white\",\"automargin\":true,\"zerolinewidth\":2},\"yaxis\":{\"gridcolor\":\"white\",\"linecolor\":\"white\",\"ticks\":\"\",\"title\":{\"standoff\":15},\"zerolinecolor\":\"white\",\"automargin\":true,\"zerolinewidth\":2},\"scene\":{\"xaxis\":{\"backgroundcolor\":\"#E5ECF6\",\"gridcolor\":\"white\",\"linecolor\":\"white\",\"showbackground\":true,\"ticks\":\"\",\"zerolinecolor\":\"white\",\"gridwidth\":2},\"yaxis\":{\"backgroundcolor\":\"#E5ECF6\",\"gridcolor\":\"white\",\"linecolor\":\"white\",\"showbackground\":true,\"ticks\":\"\",\"zerolinecolor\":\"white\",\"gridwidth\":2},\"zaxis\":{\"backgroundcolor\":\"#E5ECF6\",\"gridcolor\":\"white\",\"linecolor\":\"white\",\"showbackground\":true,\"ticks\":\"\",\"zerolinecolor\":\"white\",\"gridwidth\":2}},\"shapedefaults\":{\"line\":{\"color\":\"#2a3f5f\"}},\"annotationdefaults\":{\"arrowcolor\":\"#2a3f5f\",\"arrowhead\":0,\"arrowwidth\":1},\"geo\":{\"bgcolor\":\"white\",\"landcolor\":\"#E5ECF6\",\"subunitcolor\":\"white\",\"showland\":true,\"showlakes\":true,\"lakecolor\":\"white\"},\"title\":{\"x\":0.05},\"mapbox\":{\"style\":\"light\"}}}},                        {\"responsive\": true}                    ).then(function(){\n",
       "                            \n",
       "var gd = document.getElementById('d52a8876-029b-4378-b54f-0ed5cc4a2041');\n",
       "var x = new MutationObserver(function (mutations, observer) {{\n",
       "        var display = window.getComputedStyle(gd).display;\n",
       "        if (!display || display === 'none') {{\n",
       "            console.log([gd, 'removed!']);\n",
       "            Plotly.purge(gd);\n",
       "            observer.disconnect();\n",
       "        }}\n",
       "}});\n",
       "\n",
       "// Listen for the removal of the full notebook cells\n",
       "var notebookContainer = gd.closest('#notebook-container');\n",
       "if (notebookContainer) {{\n",
       "    x.observe(notebookContainer, {childList: true});\n",
       "}}\n",
       "\n",
       "// Listen for the clearing of the current output cell\n",
       "var outputEl = gd.closest('.output');\n",
       "if (outputEl) {{\n",
       "    x.observe(outputEl, {childList: true});\n",
       "}}\n",
       "\n",
       "                        })                };                });            </script>        </div>"
      ]
     },
     "metadata": {},
     "output_type": "display_data"
    }
   ],
   "source": [
    "example_fig = go.Figure()\n",
    "example_fig.add_trace(main)\n",
    "example_fig.add_trace(pq)\n",
    "example_fig.add_trace(pq2)"
   ]
  },
  {
   "cell_type": "code",
   "execution_count": 277,
   "id": "a0070b46-1051-4879-9896-ce56b8319708",
   "metadata": {},
   "outputs": [
    {
     "name": "stdout",
     "output_type": "stream",
     "text": [
      "t* 0.48542356519705215 1.1145764348029479\n",
      "[0, 1, 0.48542356519705215]\n",
      "0 1.3012071466569368 inf\n",
      "1 1.0550064837499582 1.3012071466569368\n",
      "0.48542356519705215 1.1188879477523375 1.0550064837499582\n"
     ]
    }
   ],
   "source": [
    "add_example(1, 0.5, p2, q2, example_fig)"
   ]
  },
  {
   "cell_type": "code",
   "execution_count": 278,
   "id": "f74470fa-9fd5-46a2-84fb-0acbdb1fe30e",
   "metadata": {},
   "outputs": [
    {
     "name": "stdout",
     "output_type": "stream",
     "text": [
      "t* -0.25660516451710125 1.8566051645171013\n",
      "[0, 1]\n",
      "0 1.3012071466569368 inf\n",
      "1 1.4550064837499581 1.3012071466569368\n"
     ]
    }
   ],
   "source": [
    "add_example(1, 0.1, p2, q2, example_fig)"
   ]
  },
  {
   "cell_type": "code",
   "execution_count": 279,
   "id": "d9b8e4a2-3bfb-48ab-ba04-c64a294460b7",
   "metadata": {},
   "outputs": [
    {
     "name": "stdout",
     "output_type": "stream",
     "text": [
      "t* 0.2795952743956177 1.3204047256043823\n",
      "[0, 1, 0.2795952743956177]\n",
      "0 1.3012071466569366 inf\n",
      "1 1.2550064837499582 1.3012071466569366\n",
      "0.2795952743956177 1.2454860507159184 1.2550064837499582\n"
     ]
    }
   ],
   "source": [
    "add_example(1, 0.3, p2, q2, example_fig)"
   ]
  },
  {
   "cell_type": "code",
   "execution_count": 280,
   "id": "3fcc765c-c515-4854-b6d2-c17ccc0653c5",
   "metadata": {},
   "outputs": [
    {
     "name": "stdout",
     "output_type": "stream",
     "text": [
      "t* 0.5113248654051872 1.088675134594813\n",
      "[0, 1, 0.5113248654051872]\n",
      "0 0.9433981132056604 inf\n",
      "1 1.0385164807134504 0.9433981132056604\n",
      "0.5113248654051872 0.8330127018922193 0.9433981132056604\n"
     ]
    }
   ],
   "source": [
    "add_example(0, 0.5, p, q, example_fig)"
   ]
  },
  {
   "cell_type": "code",
   "execution_count": 281,
   "id": "673a34a8-a498-445b-9e3b-8aa105a0fa83",
   "metadata": {},
   "outputs": [
    {
     "name": "stdout",
     "output_type": "stream",
     "text": [
      "t* 0.504636523359212 1.095363476640788\n",
      "[0, 1, 0.504636523359212]\n",
      "0 0.944178832329726 inf\n",
      "1 1.0426745045893036 0.944178832329726\n",
      "0.504636523359212 0.8363722168952921 0.944178832329726\n"
     ]
    }
   ],
   "source": [
    "add_example(0.5, 0.5, p, q, example_fig)"
   ]
  },
  {
   "cell_type": "code",
   "execution_count": 282,
   "id": "b8aa887b-85dc-4c60-82dd-325bfbec3714",
   "metadata": {},
   "outputs": [
    {
     "name": "stdout",
     "output_type": "stream",
     "text": [
      "t* 0.3745712946528722 1.225428705347128\n",
      "[0, 1, 0.3745712946528722]\n",
      "0 0.9663864789185007 inf\n",
      "1 1.134547484583317 0.9663864789185007\n",
      "0.3745712946528722 0.9067805811353572 0.9663864789185007\n"
     ]
    }
   ],
   "source": [
    "add_example(2.5, 0.5, p, q, example_fig)"
   ]
  },
  {
   "cell_type": "code",
   "execution_count": 283,
   "id": "9e70b261-138e-44d5-8314-df8b7d263c38",
   "metadata": {
    "jp-MarkdownHeadingCollapsed": true
   },
   "outputs": [
    {
     "data": {
      "application/vnd.plotly.v1+json": {
       "config": {
        "plotlyServerURL": "https://plot.ly"
       },
       "data": [
        {
         "name": "main root",
         "type": "scatter",
         "x": [
          0,
          0
         ],
         "y": [
          0,
          1
         ]
        },
        {
         "name": "lateral root tip 1",
         "type": "scatter",
         "x": [
          0.5
         ],
         "y": [
          0.8
         ]
        },
        {
         "name": "lateral root tip 2",
         "type": "scatter",
         "x": [
          -0.5
         ],
         "y": [
          1.2
         ]
        },
        {
         "mode": "lines",
         "name": "G = 1.00 α = 0.50",
         "type": "scatter",
         "x": [
          -0.5,
          -0.4897959183673469,
          -0.47959183673469385,
          -0.46938775510204084,
          -0.45918367346938777,
          -0.4489795918367347,
          -0.4387755102040816,
          -0.4285714285714286,
          -0.41836734693877553,
          -0.40816326530612246,
          -0.3979591836734694,
          -0.3877551020408163,
          -0.37755102040816324,
          -0.3673469387755102,
          -0.35714285714285715,
          -0.34693877551020413,
          -0.33673469387755106,
          -0.326530612244898,
          -0.3163265306122449,
          -0.30612244897959184,
          -0.29591836734693877,
          -0.2857142857142857,
          -0.2755102040816327,
          -0.2653061224489796,
          -0.25510204081632654,
          -0.24489795918367346,
          -0.23469387755102045,
          -0.22448979591836737,
          -0.2142857142857143,
          -0.20408163265306123,
          -0.1938775510204082,
          -0.18367346938775514,
          -0.17346938775510207,
          -0.163265306122449,
          -0.15306122448979592,
          -0.1428571428571429,
          -0.13265306122448983,
          -0.12244897959183676,
          -0.11224489795918369,
          -0.10204081632653067,
          -0.0918367346938776,
          -0.08163265306122452,
          -0.07142857142857145,
          -0.06122448979591838,
          -0.05102040816326536,
          -0.04081632653061229,
          -0.030612244897959218,
          -0.020408163265306145,
          -0.010204081632653073,
          0
         ],
         "y": [
          1.2,
          1.190920449812578,
          1.1820491461890879,
          1.1733860891295294,
          1.1649312786339026,
          1.1566847147022075,
          1.1486463973344438,
          1.1408163265306122,
          1.1331945022907122,
          1.1257809246147439,
          1.118575593502707,
          1.1115785089546022,
          1.104789670970429,
          1.0982090795501873,
          1.0918367346938775,
          1.0856726364014995,
          1.0797167846730529,
          1.0739691795085382,
          1.068429820907955,
          1.0630987088713035,
          1.057975843398584,
          1.0530612244897959,
          1.0483548521449395,
          1.043856726364015,
          1.039566847147022,
          1.0354852144939608,
          1.0316118284048312,
          1.0279466888796336,
          1.0244897959183674,
          1.021241149521033,
          1.0182007496876302,
          1.0153685964181591,
          1.0127446897126198,
          1.0103290295710121,
          1.0081216159933362,
          1.006122448979592,
          1.0043315285297794,
          1.0027488546438983,
          1.0013744273219491,
          1.0002082465639317,
          0.9992503123698459,
          0.9985006247396918,
          0.9979591836734694,
          0.9976259891711786,
          0.9975010412328197,
          0.9975843398583923,
          0.9978758850478967,
          0.9983756768013328,
          0.9990837151187005,
          1
         ]
        },
        {
         "mode": "lines",
         "name": "G = 1.00 α = 0.10",
         "type": "scatter",
         "x": [
          -0.5,
          -0.4897959183673469,
          -0.47959183673469385,
          -0.46938775510204084,
          -0.45918367346938777,
          -0.4489795918367347,
          -0.4387755102040816,
          -0.4285714285714286,
          -0.41836734693877553,
          -0.40816326530612246,
          -0.3979591836734694,
          -0.3877551020408163,
          -0.37755102040816324,
          -0.3673469387755102,
          -0.35714285714285715,
          -0.34693877551020413,
          -0.33673469387755106,
          -0.326530612244898,
          -0.3163265306122449,
          -0.30612244897959184,
          -0.29591836734693877,
          -0.2857142857142857,
          -0.2755102040816327,
          -0.2653061224489796,
          -0.25510204081632654,
          -0.24489795918367346,
          -0.23469387755102045,
          -0.22448979591836737,
          -0.2142857142857143,
          -0.20408163265306123,
          -0.1938775510204082,
          -0.18367346938775514,
          -0.17346938775510207,
          -0.163265306122449,
          -0.15306122448979592,
          -0.1428571428571429,
          -0.13265306122448983,
          -0.12244897959183676,
          -0.11224489795918369,
          -0.10204081632653067,
          -0.0918367346938776,
          -0.08163265306122452,
          -0.07142857142857145,
          -0.06122448979591838,
          -0.05102040816326536,
          -0.04081632653061229,
          -0.030612244897959218,
          -0.020408163265306145,
          -0.010204081632653073,
          0
         ],
         "y": [
          1.2,
          1.170512286547272,
          1.1412328196584756,
          1.1121615993336111,
          1.0832986255726782,
          1.0546438983756767,
          1.0261974177426072,
          0.9979591836734694,
          0.9699291961682632,
          0.9421074552269888,
          0.914493960849646,
          0.8870887130362348,
          0.8598917117867555,
          0.8329029571012079,
          0.8061224489795918,
          0.7795501874219076,
          0.753186172428155,
          0.7270304039983341,
          0.7010828821324449,
          0.6753436068304872,
          0.6498125780924614,
          0.6244897959183673,
          0.599375260308205,
          0.5744689712619743,
          0.5497709287796751,
          0.5252811328613077,
          0.5009995835068722,
          0.4769262807163682,
          0.4530612244897959,
          0.42940441482715536,
          0.4059558517284466,
          0.3827155351936694,
          0.35968346522282385,
          0.33685964181591005,
          0.31424406497292795,
          0.29183673469387766,
          0.2696376509787589,
          0.2476468138275719,
          0.22586422324031655,
          0.20428987921699304,
          0.1829237817576011,
          0.16176593086214083,
          0.1408163265306123,
          0.12007496876301543,
          0.09954185755935038,
          0.07921699291961691,
          0.05910037484381514,
          0.039192003331945065,
          0.019491878384006685,
          0
         ]
        },
        {
         "mode": "lines",
         "name": "G = 1.00 α = 0.30",
         "type": "scatter",
         "x": [
          -0.5,
          -0.4897959183673469,
          -0.47959183673469385,
          -0.46938775510204084,
          -0.45918367346938777,
          -0.4489795918367347,
          -0.4387755102040816,
          -0.4285714285714286,
          -0.41836734693877553,
          -0.40816326530612246,
          -0.3979591836734694,
          -0.3877551020408163,
          -0.37755102040816324,
          -0.3673469387755102,
          -0.35714285714285715,
          -0.34693877551020413,
          -0.33673469387755106,
          -0.326530612244898,
          -0.3163265306122449,
          -0.30612244897959184,
          -0.29591836734693877,
          -0.2857142857142857,
          -0.2755102040816327,
          -0.2653061224489796,
          -0.25510204081632654,
          -0.24489795918367346,
          -0.23469387755102045,
          -0.22448979591836737,
          -0.2142857142857143,
          -0.20408163265306123,
          -0.1938775510204082,
          -0.18367346938775514,
          -0.17346938775510207,
          -0.163265306122449,
          -0.15306122448979592,
          -0.1428571428571429,
          -0.13265306122448983,
          -0.12244897959183676,
          -0.11224489795918369,
          -0.10204081632653067,
          -0.0918367346938776,
          -0.08163265306122452,
          -0.07142857142857145,
          -0.06122448979591838,
          -0.05102040816326536,
          -0.04081632653061229,
          -0.030612244897959218,
          -0.020408163265306145,
          -0.010204081632653073,
          0
         ],
         "y": [
          1.2,
          1.1762183125553456,
          1.1526448716746232,
          1.1292796773578324,
          1.1061227296049734,
          1.083174028416046,
          1.06043357379105,
          1.037901365729986,
          1.0155774042328538,
          0.9934616892996532,
          0.9715542209303842,
          0.949854999125047,
          0.9283640238836414,
          0.9070812952061676,
          0.8860068130926254,
          0.8651405775430151,
          0.8444825885573363,
          0.8240328461355891,
          0.8037913502777738,
          0.78375810098389,
          0.7639330982539381,
          0.7443163420879177,
          0.7249078324858292,
          0.7057075694476722,
          0.6867155529734471,
          0.6679317830631535,
          0.6493562597167918,
          0.6309889829343617,
          0.6128299527158632,
          0.5948791690612965,
          0.5771366319706615,
          0.5596023414439582,
          0.5422762974811864,
          0.5251585000823464,
          0.5082489492474382,
          0.4915476449764617,
          0.4750545872694168,
          0.45876977612630365,
          0.44269321154712216,
          0.4268248935318724,
          0.41116482208055427,
          0.3957129971931679,
          0.3804694188697132,
          0.36543408711019015,
          0.3506070019145989,
          0.3359881632829393,
          0.32157757121521136,
          0.3073752257114151,
          0.29338112677155054,
          0.2795952743956177
         ]
        },
        {
         "mode": "lines",
         "name": "G = 0.00 α = 0.50",
         "type": "scatter",
         "x": [
          0,
          0.01020408163265306,
          0.02040816326530612,
          0.030612244897959183,
          0.04081632653061224,
          0.0510204081632653,
          0.061224489795918366,
          0.07142857142857142,
          0.08163265306122448,
          0.09183673469387754,
          0.1020408163265306,
          0.11224489795918366,
          0.12244897959183673,
          0.13265306122448978,
          0.14285714285714285,
          0.1530612244897959,
          0.16326530612244897,
          0.17346938775510204,
          0.18367346938775508,
          0.19387755102040816,
          0.2040816326530612,
          0.21428571428571427,
          0.22448979591836732,
          0.2346938775510204,
          0.24489795918367346,
          0.25510204081632654,
          0.26530612244897955,
          0.2755102040816326,
          0.2857142857142857,
          0.29591836734693877,
          0.3061224489795918,
          0.31632653061224486,
          0.32653061224489793,
          0.336734693877551,
          0.3469387755102041,
          0.3571428571428571,
          0.36734693877551017,
          0.37755102040816324,
          0.3877551020408163,
          0.39795918367346933,
          0.4081632653061224,
          0.4183673469387755,
          0.42857142857142855,
          0.4387755102040816,
          0.44897959183673464,
          0.4591836734693877,
          0.4693877551020408,
          0.47959183673469385,
          0.4897959183673469,
          0.5
         ],
         "y": [
          0.5113248654051872,
          0.5172161946826324,
          0.5231075239600775,
          0.5289988532375227,
          0.5348901825149678,
          0.540781511792413,
          0.5466728410698581,
          0.5525641703473033,
          0.5584554996247485,
          0.5643468289021936,
          0.5702381581796387,
          0.5761294874570839,
          0.5820208167345291,
          0.5879121460119743,
          0.5938034752894195,
          0.5996948045668645,
          0.6055861338443097,
          0.6114774631217549,
          0.6173687923992001,
          0.6232601216766452,
          0.6291514509540904,
          0.6350427802315355,
          0.6409341095089807,
          0.6468254387864258,
          0.652716768063871,
          0.6586080973413162,
          0.6644994266187614,
          0.6703907558962066,
          0.6762820851736516,
          0.6821734144510968,
          0.688064743728542,
          0.6939560730059872,
          0.6998474022834323,
          0.7057387315608774,
          0.7116300608383226,
          0.7175213901157678,
          0.7234127193932129,
          0.7293040486706581,
          0.7351953779481033,
          0.7410867072255484,
          0.7469780365029935,
          0.7528693657804387,
          0.7587606950578839,
          0.7646520243353291,
          0.7705433536127742,
          0.7764346828902193,
          0.7823260121676645,
          0.7882173414451097,
          0.7941086707225549,
          0.8
         ]
        },
        {
         "mode": "lines",
         "name": "G = 0.50 α = 0.50",
         "type": "scatter",
         "x": [
          0,
          0.01020408163265306,
          0.02040816326530612,
          0.030612244897959183,
          0.04081632653061224,
          0.0510204081632653,
          0.061224489795918366,
          0.07142857142857142,
          0.08163265306122448,
          0.09183673469387754,
          0.1020408163265306,
          0.11224489795918366,
          0.12244897959183673,
          0.13265306122448978,
          0.14285714285714285,
          0.1530612244897959,
          0.16326530612244897,
          0.17346938775510204,
          0.18367346938775508,
          0.19387755102040816,
          0.2040816326530612,
          0.21428571428571427,
          0.22448979591836732,
          0.2346938775510204,
          0.24489795918367346,
          0.25510204081632654,
          0.26530612244897955,
          0.2755102040816326,
          0.2857142857142857,
          0.29591836734693877,
          0.3061224489795918,
          0.31632653061224486,
          0.32653061224489793,
          0.336734693877551,
          0.3469387755102041,
          0.3571428571428571,
          0.36734693877551017,
          0.37755102040816324,
          0.3877551020408163,
          0.39795918367346933,
          0.4081632653061224,
          0.4183673469387755,
          0.42857142857142855,
          0.4387755102040816,
          0.44897959183673464,
          0.4591836734693877,
          0.4693877551020408,
          0.47959183673469385,
          0.4897959183673469,
          0.5
         ],
         "y": [
          0.504636523359212,
          0.5081653906459254,
          0.5117983812146045,
          0.5155354950652494,
          0.5193767321978603,
          0.523322092612437,
          0.5273715763089795,
          0.5315251832874879,
          0.5357829135479621,
          0.5401447670904022,
          0.5446107439148081,
          0.5491808440211798,
          0.5538550674095175,
          0.5586334140798209,
          0.5635158840320903,
          0.5685024772663254,
          0.5735931937825264,
          0.5787880335806933,
          0.584086996660826,
          0.5894900830229245,
          0.5949972926669889,
          0.6006086255930192,
          0.6063240818010153,
          0.6121436612909772,
          0.618067364062905,
          0.6240951901167986,
          0.6302271394526581,
          0.6364632120704834,
          0.6428034079702746,
          0.6492477271520316,
          0.6557961696157544,
          0.6624487353614432,
          0.6692054243890977,
          0.6760662366987182,
          0.6830311722903044,
          0.6901002311638564,
          0.6972734133193745,
          0.7045507187568583,
          0.711932147476308,
          0.7194176994777234,
          0.7270073747611048,
          0.7347011733264519,
          0.742499095173765,
          0.750401140303044,
          0.7584073087142886,
          0.7665176004074992,
          0.7747320153826757,
          0.7830505536398179,
          0.7914732151789261,
          0.8
         ]
        },
        {
         "mode": "lines",
         "name": "G = 2.50 α = 0.50",
         "type": "scatter",
         "x": [
          0,
          0.01020408163265306,
          0.02040816326530612,
          0.030612244897959183,
          0.04081632653061224,
          0.0510204081632653,
          0.061224489795918366,
          0.07142857142857142,
          0.08163265306122448,
          0.09183673469387754,
          0.1020408163265306,
          0.11224489795918366,
          0.12244897959183673,
          0.13265306122448978,
          0.14285714285714285,
          0.1530612244897959,
          0.16326530612244897,
          0.17346938775510204,
          0.18367346938775508,
          0.19387755102040816,
          0.2040816326530612,
          0.21428571428571427,
          0.22448979591836732,
          0.2346938775510204,
          0.24489795918367346,
          0.25510204081632654,
          0.26530612244897955,
          0.2755102040816326,
          0.2857142857142857,
          0.29591836734693877,
          0.3061224489795918,
          0.31632653061224486,
          0.32653061224489793,
          0.336734693877551,
          0.3469387755102041,
          0.3571428571428571,
          0.36734693877551017,
          0.37755102040816324,
          0.3877551020408163,
          0.39795918367346933,
          0.4081632653061224,
          0.4183673469387755,
          0.42857142857142855,
          0.4387755102040816,
          0.44897959183673464,
          0.4591836734693877,
          0.4693877551020408,
          0.47959183673469385,
          0.4897959183673469,
          0.5
         ],
         "y": [
          0.3745712946528722,
          0.3707587192934425,
          0.367466760343842,
          0.3646954178040708,
          0.3624446916741288,
          0.360714581954016,
          0.3595050886437325,
          0.3588162117432782,
          0.3586479512526532,
          0.3590003071718574,
          0.3598732795008908,
          0.36126686823975346,
          0.36318107338844535,
          0.3656158949469665,
          0.3685713329153169,
          0.3720473872934965,
          0.3760440580815054,
          0.3805613452793435,
          0.3855992488870108,
          0.3911577689045074,
          0.39723690533183315,
          0.4038366581689882,
          0.4109570274159725,
          0.418598013072786,
          0.4267596151394288,
          0.4354418336159008,
          0.44464466850220197,
          0.45436811979833247,
          0.4646121875042922,
          0.47537687162008113,
          0.4866621721456993,
          0.4984680890811467,
          0.5107946224264234,
          0.5236417721815293,
          0.5370095383464645,
          0.5508979209212288,
          0.5653069199058224,
          0.5802365353002452,
          0.5956867671044974,
          0.6116576153185787,
          0.6281490799424891,
          0.645161160976229,
          0.6626938584197981,
          0.6807471722731964,
          0.6993211025364239,
          0.7184156492094806,
          0.7380308122923666,
          0.7581665917850818,
          0.7788229876876264,
          0.8
         ]
        }
       ],
       "layout": {
        "autosize": true,
        "template": {
         "data": {
          "bar": [
           {
            "error_x": {
             "color": "#2a3f5f"
            },
            "error_y": {
             "color": "#2a3f5f"
            },
            "marker": {
             "line": {
              "color": "#E5ECF6",
              "width": 0.5
             },
             "pattern": {
              "fillmode": "overlay",
              "size": 10,
              "solidity": 0.2
             }
            },
            "type": "bar"
           }
          ],
          "barpolar": [
           {
            "marker": {
             "line": {
              "color": "#E5ECF6",
              "width": 0.5
             },
             "pattern": {
              "fillmode": "overlay",
              "size": 10,
              "solidity": 0.2
             }
            },
            "type": "barpolar"
           }
          ],
          "carpet": [
           {
            "aaxis": {
             "endlinecolor": "#2a3f5f",
             "gridcolor": "white",
             "linecolor": "white",
             "minorgridcolor": "white",
             "startlinecolor": "#2a3f5f"
            },
            "baxis": {
             "endlinecolor": "#2a3f5f",
             "gridcolor": "white",
             "linecolor": "white",
             "minorgridcolor": "white",
             "startlinecolor": "#2a3f5f"
            },
            "type": "carpet"
           }
          ],
          "choropleth": [
           {
            "colorbar": {
             "outlinewidth": 0,
             "ticks": ""
            },
            "type": "choropleth"
           }
          ],
          "contour": [
           {
            "colorbar": {
             "outlinewidth": 0,
             "ticks": ""
            },
            "colorscale": [
             [
              0,
              "#0d0887"
             ],
             [
              0.1111111111111111,
              "#46039f"
             ],
             [
              0.2222222222222222,
              "#7201a8"
             ],
             [
              0.3333333333333333,
              "#9c179e"
             ],
             [
              0.4444444444444444,
              "#bd3786"
             ],
             [
              0.5555555555555556,
              "#d8576b"
             ],
             [
              0.6666666666666666,
              "#ed7953"
             ],
             [
              0.7777777777777778,
              "#fb9f3a"
             ],
             [
              0.8888888888888888,
              "#fdca26"
             ],
             [
              1,
              "#f0f921"
             ]
            ],
            "type": "contour"
           }
          ],
          "contourcarpet": [
           {
            "colorbar": {
             "outlinewidth": 0,
             "ticks": ""
            },
            "type": "contourcarpet"
           }
          ],
          "heatmap": [
           {
            "colorbar": {
             "outlinewidth": 0,
             "ticks": ""
            },
            "colorscale": [
             [
              0,
              "#0d0887"
             ],
             [
              0.1111111111111111,
              "#46039f"
             ],
             [
              0.2222222222222222,
              "#7201a8"
             ],
             [
              0.3333333333333333,
              "#9c179e"
             ],
             [
              0.4444444444444444,
              "#bd3786"
             ],
             [
              0.5555555555555556,
              "#d8576b"
             ],
             [
              0.6666666666666666,
              "#ed7953"
             ],
             [
              0.7777777777777778,
              "#fb9f3a"
             ],
             [
              0.8888888888888888,
              "#fdca26"
             ],
             [
              1,
              "#f0f921"
             ]
            ],
            "type": "heatmap"
           }
          ],
          "heatmapgl": [
           {
            "colorbar": {
             "outlinewidth": 0,
             "ticks": ""
            },
            "colorscale": [
             [
              0,
              "#0d0887"
             ],
             [
              0.1111111111111111,
              "#46039f"
             ],
             [
              0.2222222222222222,
              "#7201a8"
             ],
             [
              0.3333333333333333,
              "#9c179e"
             ],
             [
              0.4444444444444444,
              "#bd3786"
             ],
             [
              0.5555555555555556,
              "#d8576b"
             ],
             [
              0.6666666666666666,
              "#ed7953"
             ],
             [
              0.7777777777777778,
              "#fb9f3a"
             ],
             [
              0.8888888888888888,
              "#fdca26"
             ],
             [
              1,
              "#f0f921"
             ]
            ],
            "type": "heatmapgl"
           }
          ],
          "histogram": [
           {
            "marker": {
             "pattern": {
              "fillmode": "overlay",
              "size": 10,
              "solidity": 0.2
             }
            },
            "type": "histogram"
           }
          ],
          "histogram2d": [
           {
            "colorbar": {
             "outlinewidth": 0,
             "ticks": ""
            },
            "colorscale": [
             [
              0,
              "#0d0887"
             ],
             [
              0.1111111111111111,
              "#46039f"
             ],
             [
              0.2222222222222222,
              "#7201a8"
             ],
             [
              0.3333333333333333,
              "#9c179e"
             ],
             [
              0.4444444444444444,
              "#bd3786"
             ],
             [
              0.5555555555555556,
              "#d8576b"
             ],
             [
              0.6666666666666666,
              "#ed7953"
             ],
             [
              0.7777777777777778,
              "#fb9f3a"
             ],
             [
              0.8888888888888888,
              "#fdca26"
             ],
             [
              1,
              "#f0f921"
             ]
            ],
            "type": "histogram2d"
           }
          ],
          "histogram2dcontour": [
           {
            "colorbar": {
             "outlinewidth": 0,
             "ticks": ""
            },
            "colorscale": [
             [
              0,
              "#0d0887"
             ],
             [
              0.1111111111111111,
              "#46039f"
             ],
             [
              0.2222222222222222,
              "#7201a8"
             ],
             [
              0.3333333333333333,
              "#9c179e"
             ],
             [
              0.4444444444444444,
              "#bd3786"
             ],
             [
              0.5555555555555556,
              "#d8576b"
             ],
             [
              0.6666666666666666,
              "#ed7953"
             ],
             [
              0.7777777777777778,
              "#fb9f3a"
             ],
             [
              0.8888888888888888,
              "#fdca26"
             ],
             [
              1,
              "#f0f921"
             ]
            ],
            "type": "histogram2dcontour"
           }
          ],
          "mesh3d": [
           {
            "colorbar": {
             "outlinewidth": 0,
             "ticks": ""
            },
            "type": "mesh3d"
           }
          ],
          "parcoords": [
           {
            "line": {
             "colorbar": {
              "outlinewidth": 0,
              "ticks": ""
             }
            },
            "type": "parcoords"
           }
          ],
          "pie": [
           {
            "automargin": true,
            "type": "pie"
           }
          ],
          "scatter": [
           {
            "fillpattern": {
             "fillmode": "overlay",
             "size": 10,
             "solidity": 0.2
            },
            "type": "scatter"
           }
          ],
          "scatter3d": [
           {
            "line": {
             "colorbar": {
              "outlinewidth": 0,
              "ticks": ""
             }
            },
            "marker": {
             "colorbar": {
              "outlinewidth": 0,
              "ticks": ""
             }
            },
            "type": "scatter3d"
           }
          ],
          "scattercarpet": [
           {
            "marker": {
             "colorbar": {
              "outlinewidth": 0,
              "ticks": ""
             }
            },
            "type": "scattercarpet"
           }
          ],
          "scattergeo": [
           {
            "marker": {
             "colorbar": {
              "outlinewidth": 0,
              "ticks": ""
             }
            },
            "type": "scattergeo"
           }
          ],
          "scattergl": [
           {
            "marker": {
             "colorbar": {
              "outlinewidth": 0,
              "ticks": ""
             }
            },
            "type": "scattergl"
           }
          ],
          "scattermapbox": [
           {
            "marker": {
             "colorbar": {
              "outlinewidth": 0,
              "ticks": ""
             }
            },
            "type": "scattermapbox"
           }
          ],
          "scatterpolar": [
           {
            "marker": {
             "colorbar": {
              "outlinewidth": 0,
              "ticks": ""
             }
            },
            "type": "scatterpolar"
           }
          ],
          "scatterpolargl": [
           {
            "marker": {
             "colorbar": {
              "outlinewidth": 0,
              "ticks": ""
             }
            },
            "type": "scatterpolargl"
           }
          ],
          "scatterternary": [
           {
            "marker": {
             "colorbar": {
              "outlinewidth": 0,
              "ticks": ""
             }
            },
            "type": "scatterternary"
           }
          ],
          "surface": [
           {
            "colorbar": {
             "outlinewidth": 0,
             "ticks": ""
            },
            "colorscale": [
             [
              0,
              "#0d0887"
             ],
             [
              0.1111111111111111,
              "#46039f"
             ],
             [
              0.2222222222222222,
              "#7201a8"
             ],
             [
              0.3333333333333333,
              "#9c179e"
             ],
             [
              0.4444444444444444,
              "#bd3786"
             ],
             [
              0.5555555555555556,
              "#d8576b"
             ],
             [
              0.6666666666666666,
              "#ed7953"
             ],
             [
              0.7777777777777778,
              "#fb9f3a"
             ],
             [
              0.8888888888888888,
              "#fdca26"
             ],
             [
              1,
              "#f0f921"
             ]
            ],
            "type": "surface"
           }
          ],
          "table": [
           {
            "cells": {
             "fill": {
              "color": "#EBF0F8"
             },
             "line": {
              "color": "white"
             }
            },
            "header": {
             "fill": {
              "color": "#C8D4E3"
             },
             "line": {
              "color": "white"
             }
            },
            "type": "table"
           }
          ]
         },
         "layout": {
          "annotationdefaults": {
           "arrowcolor": "#2a3f5f",
           "arrowhead": 0,
           "arrowwidth": 1
          },
          "autotypenumbers": "strict",
          "coloraxis": {
           "colorbar": {
            "outlinewidth": 0,
            "ticks": ""
           }
          },
          "colorscale": {
           "diverging": [
            [
             0,
             "#8e0152"
            ],
            [
             0.1,
             "#c51b7d"
            ],
            [
             0.2,
             "#de77ae"
            ],
            [
             0.3,
             "#f1b6da"
            ],
            [
             0.4,
             "#fde0ef"
            ],
            [
             0.5,
             "#f7f7f7"
            ],
            [
             0.6,
             "#e6f5d0"
            ],
            [
             0.7,
             "#b8e186"
            ],
            [
             0.8,
             "#7fbc41"
            ],
            [
             0.9,
             "#4d9221"
            ],
            [
             1,
             "#276419"
            ]
           ],
           "sequential": [
            [
             0,
             "#0d0887"
            ],
            [
             0.1111111111111111,
             "#46039f"
            ],
            [
             0.2222222222222222,
             "#7201a8"
            ],
            [
             0.3333333333333333,
             "#9c179e"
            ],
            [
             0.4444444444444444,
             "#bd3786"
            ],
            [
             0.5555555555555556,
             "#d8576b"
            ],
            [
             0.6666666666666666,
             "#ed7953"
            ],
            [
             0.7777777777777778,
             "#fb9f3a"
            ],
            [
             0.8888888888888888,
             "#fdca26"
            ],
            [
             1,
             "#f0f921"
            ]
           ],
           "sequentialminus": [
            [
             0,
             "#0d0887"
            ],
            [
             0.1111111111111111,
             "#46039f"
            ],
            [
             0.2222222222222222,
             "#7201a8"
            ],
            [
             0.3333333333333333,
             "#9c179e"
            ],
            [
             0.4444444444444444,
             "#bd3786"
            ],
            [
             0.5555555555555556,
             "#d8576b"
            ],
            [
             0.6666666666666666,
             "#ed7953"
            ],
            [
             0.7777777777777778,
             "#fb9f3a"
            ],
            [
             0.8888888888888888,
             "#fdca26"
            ],
            [
             1,
             "#f0f921"
            ]
           ]
          },
          "colorway": [
           "#636efa",
           "#EF553B",
           "#00cc96",
           "#ab63fa",
           "#FFA15A",
           "#19d3f3",
           "#FF6692",
           "#B6E880",
           "#FF97FF",
           "#FECB52"
          ],
          "font": {
           "color": "#2a3f5f"
          },
          "geo": {
           "bgcolor": "white",
           "lakecolor": "white",
           "landcolor": "#E5ECF6",
           "showlakes": true,
           "showland": true,
           "subunitcolor": "white"
          },
          "hoverlabel": {
           "align": "left"
          },
          "hovermode": "closest",
          "mapbox": {
           "style": "light"
          },
          "paper_bgcolor": "white",
          "plot_bgcolor": "#E5ECF6",
          "polar": {
           "angularaxis": {
            "gridcolor": "white",
            "linecolor": "white",
            "ticks": ""
           },
           "bgcolor": "#E5ECF6",
           "radialaxis": {
            "gridcolor": "white",
            "linecolor": "white",
            "ticks": ""
           }
          },
          "scene": {
           "xaxis": {
            "backgroundcolor": "#E5ECF6",
            "gridcolor": "white",
            "gridwidth": 2,
            "linecolor": "white",
            "showbackground": true,
            "ticks": "",
            "zerolinecolor": "white"
           },
           "yaxis": {
            "backgroundcolor": "#E5ECF6",
            "gridcolor": "white",
            "gridwidth": 2,
            "linecolor": "white",
            "showbackground": true,
            "ticks": "",
            "zerolinecolor": "white"
           },
           "zaxis": {
            "backgroundcolor": "#E5ECF6",
            "gridcolor": "white",
            "gridwidth": 2,
            "linecolor": "white",
            "showbackground": true,
            "ticks": "",
            "zerolinecolor": "white"
           }
          },
          "shapedefaults": {
           "line": {
            "color": "#2a3f5f"
           }
          },
          "ternary": {
           "aaxis": {
            "gridcolor": "white",
            "linecolor": "white",
            "ticks": ""
           },
           "baxis": {
            "gridcolor": "white",
            "linecolor": "white",
            "ticks": ""
           },
           "bgcolor": "#E5ECF6",
           "caxis": {
            "gridcolor": "white",
            "linecolor": "white",
            "ticks": ""
           }
          },
          "title": {
           "x": 0.05
          },
          "xaxis": {
           "automargin": true,
           "gridcolor": "white",
           "linecolor": "white",
           "ticks": "",
           "title": {
            "standoff": 15
           },
           "zerolinecolor": "white",
           "zerolinewidth": 2
          },
          "yaxis": {
           "automargin": true,
           "gridcolor": "white",
           "linecolor": "white",
           "ticks": "",
           "title": {
            "standoff": 15
           },
           "zerolinecolor": "white",
           "zerolinewidth": 2
          }
         }
        },
        "xaxis": {
         "autorange": true,
         "range": [
          -0.5627705627705628,
          0.5627705627705628
         ],
         "type": "linear"
        },
        "yaxis": {
         "autorange": true,
         "range": [
          -0.09902912621359222,
          1.2990291262135922
         ],
         "type": "linear"
        }
       }
      },
      "image/png": "[encoded data removed]",
      "text/html": [
       "<div>                            <div id=\"baea6e14-2801-4a09-8e48-73050bffc3f5\" class=\"plotly-graph-div\" style=\"height:525px; width:100%;\"></div>            <script type=\"text/javascript\">                require([\"plotly\"], function(Plotly) {                    window.PLOTLYENV=window.PLOTLYENV || {};                                    if (document.getElementById(\"baea6e14-2801-4a09-8e48-73050bffc3f5\")) {                    Plotly.newPlot(                        \"baea6e14-2801-4a09-8e48-73050bffc3f5\",                        [{\"name\":\"main root\",\"x\":[0,0],\"y\":[0,1],\"type\":\"scatter\"},{\"name\":\"lateral root tip 1\",\"x\":[0.5],\"y\":[0.8],\"type\":\"scatter\"},{\"name\":\"lateral root tip 2\",\"x\":[-0.5],\"y\":[1.2],\"type\":\"scatter\"},{\"mode\":\"lines\",\"name\":\"G = 1.00 \\u03b1 = 0.50\",\"x\":[-0.5,-0.4897959183673469,-0.47959183673469385,-0.46938775510204084,-0.45918367346938777,-0.4489795918367347,-0.4387755102040816,-0.4285714285714286,-0.41836734693877553,-0.40816326530612246,-0.3979591836734694,-0.3877551020408163,-0.37755102040816324,-0.3673469387755102,-0.35714285714285715,-0.34693877551020413,-0.33673469387755106,-0.326530612244898,-0.3163265306122449,-0.30612244897959184,-0.29591836734693877,-0.2857142857142857,-0.2755102040816327,-0.2653061224489796,-0.25510204081632654,-0.24489795918367346,-0.23469387755102045,-0.22448979591836737,-0.2142857142857143,-0.20408163265306123,-0.1938775510204082,-0.18367346938775514,-0.17346938775510207,-0.163265306122449,-0.15306122448979592,-0.1428571428571429,-0.13265306122448983,-0.12244897959183676,-0.11224489795918369,-0.10204081632653067,-0.0918367346938776,-0.08163265306122452,-0.07142857142857145,-0.06122448979591838,-0.05102040816326536,-0.04081632653061229,-0.030612244897959218,-0.020408163265306145,-0.010204081632653073,0.0],\"y\":[1.2,1.190920449812578,1.1820491461890879,1.1733860891295294,1.1649312786339026,1.1566847147022075,1.1486463973344438,1.1408163265306122,1.1331945022907122,1.1257809246147439,1.118575593502707,1.1115785089546022,1.104789670970429,1.0982090795501873,1.0918367346938775,1.0856726364014995,1.0797167846730529,1.0739691795085382,1.068429820907955,1.0630987088713035,1.057975843398584,1.0530612244897959,1.0483548521449395,1.043856726364015,1.039566847147022,1.0354852144939608,1.0316118284048312,1.0279466888796336,1.0244897959183674,1.021241149521033,1.0182007496876302,1.0153685964181591,1.0127446897126198,1.0103290295710121,1.0081216159933362,1.006122448979592,1.0043315285297794,1.0027488546438983,1.0013744273219491,1.0002082465639317,0.9992503123698459,0.9985006247396918,0.9979591836734694,0.9976259891711786,0.9975010412328197,0.9975843398583923,0.9978758850478967,0.9983756768013328,0.9990837151187005,1.0],\"type\":\"scatter\"},{\"mode\":\"lines\",\"name\":\"G = 1.00 \\u03b1 = 0.10\",\"x\":[-0.5,-0.4897959183673469,-0.47959183673469385,-0.46938775510204084,-0.45918367346938777,-0.4489795918367347,-0.4387755102040816,-0.4285714285714286,-0.41836734693877553,-0.40816326530612246,-0.3979591836734694,-0.3877551020408163,-0.37755102040816324,-0.3673469387755102,-0.35714285714285715,-0.34693877551020413,-0.33673469387755106,-0.326530612244898,-0.3163265306122449,-0.30612244897959184,-0.29591836734693877,-0.2857142857142857,-0.2755102040816327,-0.2653061224489796,-0.25510204081632654,-0.24489795918367346,-0.23469387755102045,-0.22448979591836737,-0.2142857142857143,-0.20408163265306123,-0.1938775510204082,-0.18367346938775514,-0.17346938775510207,-0.163265306122449,-0.15306122448979592,-0.1428571428571429,-0.13265306122448983,-0.12244897959183676,-0.11224489795918369,-0.10204081632653067,-0.0918367346938776,-0.08163265306122452,-0.07142857142857145,-0.06122448979591838,-0.05102040816326536,-0.04081632653061229,-0.030612244897959218,-0.020408163265306145,-0.010204081632653073,0.0],\"y\":[1.2,1.170512286547272,1.1412328196584756,1.1121615993336111,1.0832986255726782,1.0546438983756767,1.0261974177426072,0.9979591836734694,0.9699291961682632,0.9421074552269888,0.914493960849646,0.8870887130362348,0.8598917117867555,0.8329029571012079,0.8061224489795918,0.7795501874219076,0.753186172428155,0.7270304039983341,0.7010828821324449,0.6753436068304872,0.6498125780924614,0.6244897959183673,0.599375260308205,0.5744689712619743,0.5497709287796751,0.5252811328613077,0.5009995835068722,0.4769262807163682,0.4530612244897959,0.42940441482715536,0.4059558517284466,0.3827155351936694,0.35968346522282385,0.33685964181591005,0.31424406497292795,0.29183673469387766,0.2696376509787589,0.2476468138275719,0.22586422324031655,0.20428987921699304,0.1829237817576011,0.16176593086214083,0.1408163265306123,0.12007496876301543,0.09954185755935038,0.07921699291961691,0.05910037484381514,0.039192003331945065,0.019491878384006685,0.0],\"type\":\"scatter\"},{\"mode\":\"lines\",\"name\":\"G = 1.00 \\u03b1 = 0.30\",\"x\":[-0.5,-0.4897959183673469,-0.47959183673469385,-0.46938775510204084,-0.45918367346938777,-0.4489795918367347,-0.4387755102040816,-0.4285714285714286,-0.41836734693877553,-0.40816326530612246,-0.3979591836734694,-0.3877551020408163,-0.37755102040816324,-0.3673469387755102,-0.35714285714285715,-0.34693877551020413,-0.33673469387755106,-0.326530612244898,-0.3163265306122449,-0.30612244897959184,-0.29591836734693877,-0.2857142857142857,-0.2755102040816327,-0.2653061224489796,-0.25510204081632654,-0.24489795918367346,-0.23469387755102045,-0.22448979591836737,-0.2142857142857143,-0.20408163265306123,-0.1938775510204082,-0.18367346938775514,-0.17346938775510207,-0.163265306122449,-0.15306122448979592,-0.1428571428571429,-0.13265306122448983,-0.12244897959183676,-0.11224489795918369,-0.10204081632653067,-0.0918367346938776,-0.08163265306122452,-0.07142857142857145,-0.06122448979591838,-0.05102040816326536,-0.04081632653061229,-0.030612244897959218,-0.020408163265306145,-0.010204081632653073,0.0],\"y\":[1.2,1.1762183125553456,1.1526448716746232,1.1292796773578324,1.1061227296049734,1.083174028416046,1.06043357379105,1.037901365729986,1.0155774042328538,0.9934616892996532,0.9715542209303842,0.949854999125047,0.9283640238836414,0.9070812952061676,0.8860068130926254,0.8651405775430151,0.8444825885573363,0.8240328461355891,0.8037913502777738,0.78375810098389,0.7639330982539381,0.7443163420879177,0.7249078324858292,0.7057075694476722,0.6867155529734471,0.6679317830631535,0.6493562597167918,0.6309889829343617,0.6128299527158632,0.5948791690612965,0.5771366319706615,0.5596023414439582,0.5422762974811864,0.5251585000823464,0.5082489492474382,0.4915476449764617,0.4750545872694168,0.45876977612630365,0.44269321154712216,0.4268248935318724,0.41116482208055427,0.3957129971931679,0.3804694188697132,0.36543408711019015,0.3506070019145989,0.3359881632829393,0.32157757121521136,0.3073752257114151,0.29338112677155054,0.2795952743956177],\"type\":\"scatter\"},{\"mode\":\"lines\",\"name\":\"G = 0.00 \\u03b1 = 0.50\",\"x\":[0.0,0.01020408163265306,0.02040816326530612,0.030612244897959183,0.04081632653061224,0.0510204081632653,0.061224489795918366,0.07142857142857142,0.08163265306122448,0.09183673469387754,0.1020408163265306,0.11224489795918366,0.12244897959183673,0.13265306122448978,0.14285714285714285,0.1530612244897959,0.16326530612244897,0.17346938775510204,0.18367346938775508,0.19387755102040816,0.2040816326530612,0.21428571428571427,0.22448979591836732,0.2346938775510204,0.24489795918367346,0.25510204081632654,0.26530612244897955,0.2755102040816326,0.2857142857142857,0.29591836734693877,0.3061224489795918,0.31632653061224486,0.32653061224489793,0.336734693877551,0.3469387755102041,0.3571428571428571,0.36734693877551017,0.37755102040816324,0.3877551020408163,0.39795918367346933,0.4081632653061224,0.4183673469387755,0.42857142857142855,0.4387755102040816,0.44897959183673464,0.4591836734693877,0.4693877551020408,0.47959183673469385,0.4897959183673469,0.5],\"y\":[0.5113248654051872,0.5172161946826324,0.5231075239600775,0.5289988532375227,0.5348901825149678,0.540781511792413,0.5466728410698581,0.5525641703473033,0.5584554996247485,0.5643468289021936,0.5702381581796387,0.5761294874570839,0.5820208167345291,0.5879121460119743,0.5938034752894195,0.5996948045668645,0.6055861338443097,0.6114774631217549,0.6173687923992001,0.6232601216766452,0.6291514509540904,0.6350427802315355,0.6409341095089807,0.6468254387864258,0.652716768063871,0.6586080973413162,0.6644994266187614,0.6703907558962066,0.6762820851736516,0.6821734144510968,0.688064743728542,0.6939560730059872,0.6998474022834323,0.7057387315608774,0.7116300608383226,0.7175213901157678,0.7234127193932129,0.7293040486706581,0.7351953779481033,0.7410867072255484,0.7469780365029935,0.7528693657804387,0.7587606950578839,0.7646520243353291,0.7705433536127742,0.7764346828902193,0.7823260121676645,0.7882173414451097,0.7941086707225549,0.8],\"type\":\"scatter\"},{\"mode\":\"lines\",\"name\":\"G = 0.50 \\u03b1 = 0.50\",\"x\":[0.0,0.01020408163265306,0.02040816326530612,0.030612244897959183,0.04081632653061224,0.0510204081632653,0.061224489795918366,0.07142857142857142,0.08163265306122448,0.09183673469387754,0.1020408163265306,0.11224489795918366,0.12244897959183673,0.13265306122448978,0.14285714285714285,0.1530612244897959,0.16326530612244897,0.17346938775510204,0.18367346938775508,0.19387755102040816,0.2040816326530612,0.21428571428571427,0.22448979591836732,0.2346938775510204,0.24489795918367346,0.25510204081632654,0.26530612244897955,0.2755102040816326,0.2857142857142857,0.29591836734693877,0.3061224489795918,0.31632653061224486,0.32653061224489793,0.336734693877551,0.3469387755102041,0.3571428571428571,0.36734693877551017,0.37755102040816324,0.3877551020408163,0.39795918367346933,0.4081632653061224,0.4183673469387755,0.42857142857142855,0.4387755102040816,0.44897959183673464,0.4591836734693877,0.4693877551020408,0.47959183673469385,0.4897959183673469,0.5],\"y\":[0.504636523359212,0.5081653906459254,0.5117983812146045,0.5155354950652494,0.5193767321978603,0.523322092612437,0.5273715763089795,0.5315251832874879,0.5357829135479621,0.5401447670904022,0.5446107439148081,0.5491808440211798,0.5538550674095175,0.5586334140798209,0.5635158840320903,0.5685024772663254,0.5735931937825264,0.5787880335806933,0.584086996660826,0.5894900830229245,0.5949972926669889,0.6006086255930192,0.6063240818010153,0.6121436612909772,0.618067364062905,0.6240951901167986,0.6302271394526581,0.6364632120704834,0.6428034079702746,0.6492477271520316,0.6557961696157544,0.6624487353614432,0.6692054243890977,0.6760662366987182,0.6830311722903044,0.6901002311638564,0.6972734133193745,0.7045507187568583,0.711932147476308,0.7194176994777234,0.7270073747611048,0.7347011733264519,0.742499095173765,0.750401140303044,0.7584073087142886,0.7665176004074992,0.7747320153826757,0.7830505536398179,0.7914732151789261,0.8],\"type\":\"scatter\"},{\"mode\":\"lines\",\"name\":\"G = 2.50 \\u03b1 = 0.50\",\"x\":[0.0,0.01020408163265306,0.02040816326530612,0.030612244897959183,0.04081632653061224,0.0510204081632653,0.061224489795918366,0.07142857142857142,0.08163265306122448,0.09183673469387754,0.1020408163265306,0.11224489795918366,0.12244897959183673,0.13265306122448978,0.14285714285714285,0.1530612244897959,0.16326530612244897,0.17346938775510204,0.18367346938775508,0.19387755102040816,0.2040816326530612,0.21428571428571427,0.22448979591836732,0.2346938775510204,0.24489795918367346,0.25510204081632654,0.26530612244897955,0.2755102040816326,0.2857142857142857,0.29591836734693877,0.3061224489795918,0.31632653061224486,0.32653061224489793,0.336734693877551,0.3469387755102041,0.3571428571428571,0.36734693877551017,0.37755102040816324,0.3877551020408163,0.39795918367346933,0.4081632653061224,0.4183673469387755,0.42857142857142855,0.4387755102040816,0.44897959183673464,0.4591836734693877,0.4693877551020408,0.47959183673469385,0.4897959183673469,0.5],\"y\":[0.3745712946528722,0.3707587192934425,0.367466760343842,0.3646954178040708,0.3624446916741288,0.360714581954016,0.3595050886437325,0.3588162117432782,0.3586479512526532,0.3590003071718574,0.3598732795008908,0.36126686823975346,0.36318107338844535,0.3656158949469665,0.3685713329153169,0.3720473872934965,0.3760440580815054,0.3805613452793435,0.3855992488870108,0.3911577689045074,0.39723690533183315,0.4038366581689882,0.4109570274159725,0.418598013072786,0.4267596151394288,0.4354418336159008,0.44464466850220197,0.45436811979833247,0.4646121875042922,0.47537687162008113,0.4866621721456993,0.4984680890811467,0.5107946224264234,0.5236417721815293,0.5370095383464645,0.5508979209212288,0.5653069199058224,0.5802365353002452,0.5956867671044974,0.6116576153185787,0.6281490799424891,0.645161160976229,0.6626938584197981,0.6807471722731964,0.6993211025364239,0.7184156492094806,0.7380308122923666,0.7581665917850818,0.7788229876876264,0.8],\"type\":\"scatter\"}],                        {\"template\":{\"data\":{\"histogram2dcontour\":[{\"type\":\"histogram2dcontour\",\"colorbar\":{\"outlinewidth\":0,\"ticks\":\"\"},\"colorscale\":[[0.0,\"#0d0887\"],[0.1111111111111111,\"#46039f\"],[0.2222222222222222,\"#7201a8\"],[0.3333333333333333,\"#9c179e\"],[0.4444444444444444,\"#bd3786\"],[0.5555555555555556,\"#d8576b\"],[0.6666666666666666,\"#ed7953\"],[0.7777777777777778,\"#fb9f3a\"],[0.8888888888888888,\"#fdca26\"],[1.0,\"#f0f921\"]]}],\"choropleth\":[{\"type\":\"choropleth\",\"colorbar\":{\"outlinewidth\":0,\"ticks\":\"\"}}],\"histogram2d\":[{\"type\":\"histogram2d\",\"colorbar\":{\"outlinewidth\":0,\"ticks\":\"\"},\"colorscale\":[[0.0,\"#0d0887\"],[0.1111111111111111,\"#46039f\"],[0.2222222222222222,\"#7201a8\"],[0.3333333333333333,\"#9c179e\"],[0.4444444444444444,\"#bd3786\"],[0.5555555555555556,\"#d8576b\"],[0.6666666666666666,\"#ed7953\"],[0.7777777777777778,\"#fb9f3a\"],[0.8888888888888888,\"#fdca26\"],[1.0,\"#f0f921\"]]}],\"heatmap\":[{\"type\":\"heatmap\",\"colorbar\":{\"outlinewidth\":0,\"ticks\":\"\"},\"colorscale\":[[0.0,\"#0d0887\"],[0.1111111111111111,\"#46039f\"],[0.2222222222222222,\"#7201a8\"],[0.3333333333333333,\"#9c179e\"],[0.4444444444444444,\"#bd3786\"],[0.5555555555555556,\"#d8576b\"],[0.6666666666666666,\"#ed7953\"],[0.7777777777777778,\"#fb9f3a\"],[0.8888888888888888,\"#fdca26\"],[1.0,\"#f0f921\"]]}],\"heatmapgl\":[{\"type\":\"heatmapgl\",\"colorbar\":{\"outlinewidth\":0,\"ticks\":\"\"},\"colorscale\":[[0.0,\"#0d0887\"],[0.1111111111111111,\"#46039f\"],[0.2222222222222222,\"#7201a8\"],[0.3333333333333333,\"#9c179e\"],[0.4444444444444444,\"#bd3786\"],[0.5555555555555556,\"#d8576b\"],[0.6666666666666666,\"#ed7953\"],[0.7777777777777778,\"#fb9f3a\"],[0.8888888888888888,\"#fdca26\"],[1.0,\"#f0f921\"]]}],\"contourcarpet\":[{\"type\":\"contourcarpet\",\"colorbar\":{\"outlinewidth\":0,\"ticks\":\"\"}}],\"contour\":[{\"type\":\"contour\",\"colorbar\":{\"outlinewidth\":0,\"ticks\":\"\"},\"colorscale\":[[0.0,\"#0d0887\"],[0.1111111111111111,\"#46039f\"],[0.2222222222222222,\"#7201a8\"],[0.3333333333333333,\"#9c179e\"],[0.4444444444444444,\"#bd3786\"],[0.5555555555555556,\"#d8576b\"],[0.6666666666666666,\"#ed7953\"],[0.7777777777777778,\"#fb9f3a\"],[0.8888888888888888,\"#fdca26\"],[1.0,\"#f0f921\"]]}],\"surface\":[{\"type\":\"surface\",\"colorbar\":{\"outlinewidth\":0,\"ticks\":\"\"},\"colorscale\":[[0.0,\"#0d0887\"],[0.1111111111111111,\"#46039f\"],[0.2222222222222222,\"#7201a8\"],[0.3333333333333333,\"#9c179e\"],[0.4444444444444444,\"#bd3786\"],[0.5555555555555556,\"#d8576b\"],[0.6666666666666666,\"#ed7953\"],[0.7777777777777778,\"#fb9f3a\"],[0.8888888888888888,\"#fdca26\"],[1.0,\"#f0f921\"]]}],\"mesh3d\":[{\"type\":\"mesh3d\",\"colorbar\":{\"outlinewidth\":0,\"ticks\":\"\"}}],\"scatter\":[{\"fillpattern\":{\"fillmode\":\"overlay\",\"size\":10,\"solidity\":0.2},\"type\":\"scatter\"}],\"parcoords\":[{\"type\":\"parcoords\",\"line\":{\"colorbar\":{\"outlinewidth\":0,\"ticks\":\"\"}}}],\"scatterpolargl\":[{\"type\":\"scatterpolargl\",\"marker\":{\"colorbar\":{\"outlinewidth\":0,\"ticks\":\"\"}}}],\"bar\":[{\"error_x\":{\"color\":\"#2a3f5f\"},\"error_y\":{\"color\":\"#2a3f5f\"},\"marker\":{\"line\":{\"color\":\"#E5ECF6\",\"width\":0.5},\"pattern\":{\"fillmode\":\"overlay\",\"size\":10,\"solidity\":0.2}},\"type\":\"bar\"}],\"scattergeo\":[{\"type\":\"scattergeo\",\"marker\":{\"colorbar\":{\"outlinewidth\":0,\"ticks\":\"\"}}}],\"scatterpolar\":[{\"type\":\"scatterpolar\",\"marker\":{\"colorbar\":{\"outlinewidth\":0,\"ticks\":\"\"}}}],\"histogram\":[{\"marker\":{\"pattern\":{\"fillmode\":\"overlay\",\"size\":10,\"solidity\":0.2}},\"type\":\"histogram\"}],\"scattergl\":[{\"type\":\"scattergl\",\"marker\":{\"colorbar\":{\"outlinewidth\":0,\"ticks\":\"\"}}}],\"scatter3d\":[{\"type\":\"scatter3d\",\"line\":{\"colorbar\":{\"outlinewidth\":0,\"ticks\":\"\"}},\"marker\":{\"colorbar\":{\"outlinewidth\":0,\"ticks\":\"\"}}}],\"scattermapbox\":[{\"type\":\"scattermapbox\",\"marker\":{\"colorbar\":{\"outlinewidth\":0,\"ticks\":\"\"}}}],\"scatterternary\":[{\"type\":\"scatterternary\",\"marker\":{\"colorbar\":{\"outlinewidth\":0,\"ticks\":\"\"}}}],\"scattercarpet\":[{\"type\":\"scattercarpet\",\"marker\":{\"colorbar\":{\"outlinewidth\":0,\"ticks\":\"\"}}}],\"carpet\":[{\"aaxis\":{\"endlinecolor\":\"#2a3f5f\",\"gridcolor\":\"white\",\"linecolor\":\"white\",\"minorgridcolor\":\"white\",\"startlinecolor\":\"#2a3f5f\"},\"baxis\":{\"endlinecolor\":\"#2a3f5f\",\"gridcolor\":\"white\",\"linecolor\":\"white\",\"minorgridcolor\":\"white\",\"startlinecolor\":\"#2a3f5f\"},\"type\":\"carpet\"}],\"table\":[{\"cells\":{\"fill\":{\"color\":\"#EBF0F8\"},\"line\":{\"color\":\"white\"}},\"header\":{\"fill\":{\"color\":\"#C8D4E3\"},\"line\":{\"color\":\"white\"}},\"type\":\"table\"}],\"barpolar\":[{\"marker\":{\"line\":{\"color\":\"#E5ECF6\",\"width\":0.5},\"pattern\":{\"fillmode\":\"overlay\",\"size\":10,\"solidity\":0.2}},\"type\":\"barpolar\"}],\"pie\":[{\"automargin\":true,\"type\":\"pie\"}]},\"layout\":{\"autotypenumbers\":\"strict\",\"colorway\":[\"#636efa\",\"#EF553B\",\"#00cc96\",\"#ab63fa\",\"#FFA15A\",\"#19d3f3\",\"#FF6692\",\"#B6E880\",\"#FF97FF\",\"#FECB52\"],\"font\":{\"color\":\"#2a3f5f\"},\"hovermode\":\"closest\",\"hoverlabel\":{\"align\":\"left\"},\"paper_bgcolor\":\"white\",\"plot_bgcolor\":\"#E5ECF6\",\"polar\":{\"bgcolor\":\"#E5ECF6\",\"angularaxis\":{\"gridcolor\":\"white\",\"linecolor\":\"white\",\"ticks\":\"\"},\"radialaxis\":{\"gridcolor\":\"white\",\"linecolor\":\"white\",\"ticks\":\"\"}},\"ternary\":{\"bgcolor\":\"#E5ECF6\",\"aaxis\":{\"gridcolor\":\"white\",\"linecolor\":\"white\",\"ticks\":\"\"},\"baxis\":{\"gridcolor\":\"white\",\"linecolor\":\"white\",\"ticks\":\"\"},\"caxis\":{\"gridcolor\":\"white\",\"linecolor\":\"white\",\"ticks\":\"\"}},\"coloraxis\":{\"colorbar\":{\"outlinewidth\":0,\"ticks\":\"\"}},\"colorscale\":{\"sequential\":[[0.0,\"#0d0887\"],[0.1111111111111111,\"#46039f\"],[0.2222222222222222,\"#7201a8\"],[0.3333333333333333,\"#9c179e\"],[0.4444444444444444,\"#bd3786\"],[0.5555555555555556,\"#d8576b\"],[0.6666666666666666,\"#ed7953\"],[0.7777777777777778,\"#fb9f3a\"],[0.8888888888888888,\"#fdca26\"],[1.0,\"#f0f921\"]],\"sequentialminus\":[[0.0,\"#0d0887\"],[0.1111111111111111,\"#46039f\"],[0.2222222222222222,\"#7201a8\"],[0.3333333333333333,\"#9c179e\"],[0.4444444444444444,\"#bd3786\"],[0.5555555555555556,\"#d8576b\"],[0.6666666666666666,\"#ed7953\"],[0.7777777777777778,\"#fb9f3a\"],[0.8888888888888888,\"#fdca26\"],[1.0,\"#f0f921\"]],\"diverging\":[[0,\"#8e0152\"],[0.1,\"#c51b7d\"],[0.2,\"#de77ae\"],[0.3,\"#f1b6da\"],[0.4,\"#fde0ef\"],[0.5,\"#f7f7f7\"],[0.6,\"#e6f5d0\"],[0.7,\"#b8e186\"],[0.8,\"#7fbc41\"],[0.9,\"#4d9221\"],[1,\"#276419\"]]},\"xaxis\":{\"gridcolor\":\"white\",\"linecolor\":\"white\",\"ticks\":\"\",\"title\":{\"standoff\":15},\"zerolinecolor\":\"white\",\"automargin\":true,\"zerolinewidth\":2},\"yaxis\":{\"gridcolor\":\"white\",\"linecolor\":\"white\",\"ticks\":\"\",\"title\":{\"standoff\":15},\"zerolinecolor\":\"white\",\"automargin\":true,\"zerolinewidth\":2},\"scene\":{\"xaxis\":{\"backgroundcolor\":\"#E5ECF6\",\"gridcolor\":\"white\",\"linecolor\":\"white\",\"showbackground\":true,\"ticks\":\"\",\"zerolinecolor\":\"white\",\"gridwidth\":2},\"yaxis\":{\"backgroundcolor\":\"#E5ECF6\",\"gridcolor\":\"white\",\"linecolor\":\"white\",\"showbackground\":true,\"ticks\":\"\",\"zerolinecolor\":\"white\",\"gridwidth\":2},\"zaxis\":{\"backgroundcolor\":\"#E5ECF6\",\"gridcolor\":\"white\",\"linecolor\":\"white\",\"showbackground\":true,\"ticks\":\"\",\"zerolinecolor\":\"white\",\"gridwidth\":2}},\"shapedefaults\":{\"line\":{\"color\":\"#2a3f5f\"}},\"annotationdefaults\":{\"arrowcolor\":\"#2a3f5f\",\"arrowhead\":0,\"arrowwidth\":1},\"geo\":{\"bgcolor\":\"white\",\"landcolor\":\"#E5ECF6\",\"subunitcolor\":\"white\",\"showland\":true,\"showlakes\":true,\"lakecolor\":\"white\"},\"title\":{\"x\":0.05},\"mapbox\":{\"style\":\"light\"}}}},                        {\"responsive\": true}                    ).then(function(){\n",
       "                            \n",
       "var gd = document.getElementById('baea6e14-2801-4a09-8e48-73050bffc3f5');\n",
       "var x = new MutationObserver(function (mutations, observer) {{\n",
       "        var display = window.getComputedStyle(gd).display;\n",
       "        if (!display || display === 'none') {{\n",
       "            console.log([gd, 'removed!']);\n",
       "            Plotly.purge(gd);\n",
       "            observer.disconnect();\n",
       "        }}\n",
       "}});\n",
       "\n",
       "// Listen for the removal of the full notebook cells\n",
       "var notebookContainer = gd.closest('#notebook-container');\n",
       "if (notebookContainer) {{\n",
       "    x.observe(notebookContainer, {childList: true});\n",
       "}}\n",
       "\n",
       "// Listen for the clearing of the current output cell\n",
       "var outputEl = gd.closest('.output');\n",
       "if (outputEl) {{\n",
       "    x.observe(outputEl, {childList: true});\n",
       "}}\n",
       "\n",
       "                        })                };                });            </script>        </div>"
      ]
     },
     "metadata": {},
     "output_type": "display_data"
    }
   ],
   "source": [
    "# example_fig.update_yaxes(\n",
    "#     scaleanchor = \"x\",\n",
    "#     scaleratio = 1\n",
    "# )\n",
    "example_fig.show()"
   ]
  },
  {
   "cell_type": "code",
   "execution_count": null,
   "id": "5ed4db36-1a18-4577-8ead-9e3a0e0cd928",
   "metadata": {},
   "outputs": [],
   "source": []
  }
 ],
 "metadata": {
  "kernelspec": {
   "display_name": "plant-gravitropism-kernel",
   "language": "python",
   "name": "plant-gravitropism-kernel"
  },
  "language_info": {
   "codemirror_mode": {
    "name": "ipython",
    "version": 3
   },
   "file_extension": ".py",
   "mimetype": "text/x-python",
   "name": "python",
   "nbconvert_exporter": "python",
   "pygments_lexer": "ipython3",
   "version": "3.12.2"
  }
 },
 "nbformat": 4,
 "nbformat_minor": 5
}
